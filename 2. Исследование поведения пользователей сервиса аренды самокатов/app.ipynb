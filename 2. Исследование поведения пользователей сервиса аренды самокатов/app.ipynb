{
 "cells": [
  {
   "cell_type": "markdown",
   "id": "dc207982",
   "metadata": {
    "toc": true
   },
   "source": [
    "<h1>Содержание<span class=\"tocSkip\"></span></h1>\n",
    "<div class=\"toc\"><ul class=\"toc-item\"><li><span><a href=\"#Загрузка-данных\" data-toc-modified-id=\"Загрузка-данных-1\"><span class=\"toc-item-num\">1&nbsp;&nbsp;</span>Загрузка данных</a></span></li><li><span><a href=\"#Предобработка-данных\" data-toc-modified-id=\"Предобработка-данных-2\"><span class=\"toc-item-num\">2&nbsp;&nbsp;</span>Предобработка данных</a></span></li><li><span><a href=\"#Исследовательский-анализ-данных\" data-toc-modified-id=\"Исследовательский-анализ-данных-3\"><span class=\"toc-item-num\">3&nbsp;&nbsp;</span>Исследовательский анализ данных</a></span><ul class=\"toc-item\"><li><span><a href=\"#Частота-встречаемости-городов\" data-toc-modified-id=\"Частота-встречаемости-городов-3.1\"><span class=\"toc-item-num\">3.1&nbsp;&nbsp;</span>Частота встречаемости городов</a></span></li><li><span><a href=\"#Соотношение-пользователей-с-подпиской-и-без-подписки\" data-toc-modified-id=\"Соотношение-пользователей-с-подпиской-и-без-подписки-3.2\"><span class=\"toc-item-num\">3.2&nbsp;&nbsp;</span>Соотношение пользователей с подпиской и без подписки</a></span></li><li><span><a href=\"#Возраст-пользователей\" data-toc-modified-id=\"Возраст-пользователей-3.3\"><span class=\"toc-item-num\">3.3&nbsp;&nbsp;</span>Возраст пользователей</a></span></li><li><span><a href=\"#Расстояние,-которое-пользователь-преодолел-за-одну-поездку\" data-toc-modified-id=\"Расстояние,-которое-пользователь-преодолел-за-одну-поездку-3.4\"><span class=\"toc-item-num\">3.4&nbsp;&nbsp;</span>Расстояние, которое пользователь преодолел за одну поездку</a></span></li><li><span><a href=\"#Продолжительность-поездок\" data-toc-modified-id=\"Продолжительность-поездок-3.5\"><span class=\"toc-item-num\">3.5&nbsp;&nbsp;</span>Продолжительность поездок</a></span></li></ul></li><li><span><a href=\"#Объединение-данных\" data-toc-modified-id=\"Объединение-данных-4\"><span class=\"toc-item-num\">4&nbsp;&nbsp;</span>Объединение данных</a></span><ul class=\"toc-item\"><li><span><a href=\"#Объединение-данных-в-единый-датасет\" data-toc-modified-id=\"Объединение-данных-в-единый-датасет-4.1\"><span class=\"toc-item-num\">4.1&nbsp;&nbsp;</span>Объединение данных в единый датасет</a></span></li><li><span><a href=\"#Отдельные-датасеты-для-пользователей-с-подпиской-и-без\" data-toc-modified-id=\"Отдельные-датасеты-для-пользователей-с-подпиской-и-без-4.2\"><span class=\"toc-item-num\">4.2&nbsp;&nbsp;</span>Отдельные датасеты для пользователей с подпиской и без</a></span></li><li><span><a href=\"#Визуализация-данных-о-расстоянии-и-времени-поездок-для-пользователей-обеих-категорий\" data-toc-modified-id=\"Визуализация-данных-о-расстоянии-и-времени-поездок-для-пользователей-обеих-категорий-4.3\"><span class=\"toc-item-num\">4.3&nbsp;&nbsp;</span>Визуализация данных о расстоянии и времени поездок для пользователей обеих категорий</a></span></li></ul></li><li><span><a href=\"#Расчет-выручки\" data-toc-modified-id=\"Расчет-выручки-5\"><span class=\"toc-item-num\">5&nbsp;&nbsp;</span>Расчет выручки</a></span></li><li><span><a href=\"#Проверка-гипотез\" data-toc-modified-id=\"Проверка-гипотез-6\"><span class=\"toc-item-num\">6&nbsp;&nbsp;</span>Проверка гипотез</a></span><ul class=\"toc-item\"><li><span><a href=\"#Гипотеза-1\" data-toc-modified-id=\"Гипотеза-1-6.1\"><span class=\"toc-item-num\">6.1&nbsp;&nbsp;</span>Гипотеза 1</a></span></li><li><span><a href=\"#Гипотеза-2\" data-toc-modified-id=\"Гипотеза-2-6.2\"><span class=\"toc-item-num\">6.2&nbsp;&nbsp;</span>Гипотеза 2</a></span></li><li><span><a href=\"#Гипотеза-3\" data-toc-modified-id=\"Гипотеза-3-6.3\"><span class=\"toc-item-num\">6.3&nbsp;&nbsp;</span>Гипотеза 3</a></span></li><li><span><a href=\"#Вывод\" data-toc-modified-id=\"Вывод-6.4\"><span class=\"toc-item-num\">6.4&nbsp;&nbsp;</span>Вывод</a></span></li></ul></li><li><span><a href=\"#Вывод\" data-toc-modified-id=\"Вывод-7\"><span class=\"toc-item-num\">7&nbsp;&nbsp;</span>Вывод</a></span></li></ul></div>"
   ]
  },
  {
   "cell_type": "markdown",
   "id": "801c3ba5",
   "metadata": {},
   "source": [
    "# Исследование поведения пользователей сервиса аренды самокатов"
   ]
  },
  {
   "cell_type": "markdown",
   "id": "97b2387a",
   "metadata": {},
   "source": [
    "В нашем распоряжении данные популярного сервиса аренды самокатов GoFast. Необходимо проанализировать данные и проверить некоторые гипотезы, которые могут помочь бизнесу вырасти.\n",
    "\n",
    "Чтобы совершать поездки по городу, пользователи сервиса GoFast пользуются мобильным приложением. Сервисом можно пользоваться:\n",
    "\n",
    "***без подписки:***\n",
    "* абонентская плата отсутствует;\n",
    "* стоимость одной минуты поездки — 8 рублей;\n",
    "* стоимость старта (начала поездки) — 50 рублей;\n",
    "\n",
    "***с подпиской Ultra:***\n",
    "* абонентская плата — 199 рублей в месяц;\n",
    "* стоимость одной минуты поездки — 6 рублей;\n",
    "* стоимость старта — бесплатно."
   ]
  },
  {
   "cell_type": "markdown",
   "id": "b38114ad",
   "metadata": {},
   "source": [
    "**Описание данных:**\n",
    "\n",
    "Пользователи — users_go.csv:\n",
    "* user_id — уникальный идентификатор пользователя;\n",
    "* name — имя пользователя;\n",
    "* age — возраст;\n",
    "* city — город;\n",
    "* subscription_type — тип подписки (free, ultra).\n",
    "\n",
    "Поездки — rides_go.csv:\n",
    "* user_id — уникальный идентификатор пользователя;\n",
    "* distance — расстояние, которое пользователь проехал в текущей сессии (в метрах);\n",
    "* duration — продолжительность сессии (в минутах) — время с того момента, как пользователь нажал кнопку «Начать поездку» до момента, как он нажал кнопку «Завершить поездку»;\n",
    "* date — дата совершения поездки.\n",
    "\n",
    "Подписки — subscriptions_go.csv:\n",
    "* subscription_type — тип подписки;\n",
    "* minute_price — стоимость одной минуты поездки по данной подписке;\n",
    "* start_ride_price — стоимость начала поездки;\n",
    "* subscription_fee — стоимость ежемесячного платежа."
   ]
  },
  {
   "cell_type": "markdown",
   "id": "c42cbe00",
   "metadata": {},
   "source": [
    "## Загрузка данных"
   ]
  },
  {
   "cell_type": "code",
   "execution_count": 1,
   "id": "72576667",
   "metadata": {},
   "outputs": [],
   "source": [
    "import pandas as pd\n",
    "import numpy as np\n",
    "import matplotlib.pyplot as plt\n",
    "import seaborn as sns\n",
    "from scipy import stats as st"
   ]
  },
  {
   "cell_type": "code",
   "execution_count": 2,
   "id": "eff9f206",
   "metadata": {
    "hideCode": false,
    "hideOutput": false
   },
   "outputs": [],
   "source": [
    "data_users = pd.read_csv('/datasets/users_go.csv')\n",
    "data_rides = pd.read_csv('/datasets/rides_go.csv', parse_dates=['date'], dayfirst=True)\n",
    "data_subs = pd.read_csv('/datasets/subscriptions_go.csv')"
   ]
  },
  {
   "cell_type": "markdown",
   "id": "783ca11d",
   "metadata": {},
   "source": [
    "Выведем несколько строк каждого датасета для ознакомления."
   ]
  },
  {
   "cell_type": "code",
   "execution_count": 3,
   "id": "8d8bbd89",
   "metadata": {},
   "outputs": [
    {
     "data": {
      "text/html": [
       "<div>\n",
       "<style scoped>\n",
       "    .dataframe tbody tr th:only-of-type {\n",
       "        vertical-align: middle;\n",
       "    }\n",
       "\n",
       "    .dataframe tbody tr th {\n",
       "        vertical-align: top;\n",
       "    }\n",
       "\n",
       "    .dataframe thead th {\n",
       "        text-align: right;\n",
       "    }\n",
       "</style>\n",
       "<table border=\"1\" class=\"dataframe\">\n",
       "  <thead>\n",
       "    <tr style=\"text-align: right;\">\n",
       "      <th></th>\n",
       "      <th>user_id</th>\n",
       "      <th>name</th>\n",
       "      <th>age</th>\n",
       "      <th>city</th>\n",
       "      <th>subscription_type</th>\n",
       "    </tr>\n",
       "  </thead>\n",
       "  <tbody>\n",
       "    <tr>\n",
       "      <th>0</th>\n",
       "      <td>1</td>\n",
       "      <td>Кира</td>\n",
       "      <td>22</td>\n",
       "      <td>Тюмень</td>\n",
       "      <td>ultra</td>\n",
       "    </tr>\n",
       "    <tr>\n",
       "      <th>1</th>\n",
       "      <td>2</td>\n",
       "      <td>Станислав</td>\n",
       "      <td>31</td>\n",
       "      <td>Омск</td>\n",
       "      <td>ultra</td>\n",
       "    </tr>\n",
       "    <tr>\n",
       "      <th>2</th>\n",
       "      <td>3</td>\n",
       "      <td>Алексей</td>\n",
       "      <td>20</td>\n",
       "      <td>Москва</td>\n",
       "      <td>ultra</td>\n",
       "    </tr>\n",
       "    <tr>\n",
       "      <th>3</th>\n",
       "      <td>4</td>\n",
       "      <td>Константин</td>\n",
       "      <td>26</td>\n",
       "      <td>Ростов-на-Дону</td>\n",
       "      <td>ultra</td>\n",
       "    </tr>\n",
       "    <tr>\n",
       "      <th>4</th>\n",
       "      <td>5</td>\n",
       "      <td>Адель</td>\n",
       "      <td>28</td>\n",
       "      <td>Омск</td>\n",
       "      <td>ultra</td>\n",
       "    </tr>\n",
       "    <tr>\n",
       "      <th>5</th>\n",
       "      <td>6</td>\n",
       "      <td>Регина</td>\n",
       "      <td>25</td>\n",
       "      <td>Краснодар</td>\n",
       "      <td>ultra</td>\n",
       "    </tr>\n",
       "    <tr>\n",
       "      <th>6</th>\n",
       "      <td>7</td>\n",
       "      <td>Игорь</td>\n",
       "      <td>23</td>\n",
       "      <td>Омск</td>\n",
       "      <td>ultra</td>\n",
       "    </tr>\n",
       "    <tr>\n",
       "      <th>7</th>\n",
       "      <td>8</td>\n",
       "      <td>Юрий</td>\n",
       "      <td>23</td>\n",
       "      <td>Краснодар</td>\n",
       "      <td>ultra</td>\n",
       "    </tr>\n",
       "    <tr>\n",
       "      <th>8</th>\n",
       "      <td>9</td>\n",
       "      <td>Ян</td>\n",
       "      <td>21</td>\n",
       "      <td>Пятигорск</td>\n",
       "      <td>ultra</td>\n",
       "    </tr>\n",
       "    <tr>\n",
       "      <th>9</th>\n",
       "      <td>10</td>\n",
       "      <td>Валерий</td>\n",
       "      <td>18</td>\n",
       "      <td>Екатеринбург</td>\n",
       "      <td>ultra</td>\n",
       "    </tr>\n",
       "    <tr>\n",
       "      <th>10</th>\n",
       "      <td>11</td>\n",
       "      <td>Агата</td>\n",
       "      <td>31</td>\n",
       "      <td>Краснодар</td>\n",
       "      <td>ultra</td>\n",
       "    </tr>\n",
       "    <tr>\n",
       "      <th>11</th>\n",
       "      <td>12</td>\n",
       "      <td>Марк</td>\n",
       "      <td>27</td>\n",
       "      <td>Тюмень</td>\n",
       "      <td>ultra</td>\n",
       "    </tr>\n",
       "    <tr>\n",
       "      <th>12</th>\n",
       "      <td>13</td>\n",
       "      <td>Ева</td>\n",
       "      <td>24</td>\n",
       "      <td>Краснодар</td>\n",
       "      <td>ultra</td>\n",
       "    </tr>\n",
       "    <tr>\n",
       "      <th>13</th>\n",
       "      <td>14</td>\n",
       "      <td>Антонина</td>\n",
       "      <td>18</td>\n",
       "      <td>Пятигорск</td>\n",
       "      <td>ultra</td>\n",
       "    </tr>\n",
       "    <tr>\n",
       "      <th>14</th>\n",
       "      <td>15</td>\n",
       "      <td>Валерия</td>\n",
       "      <td>24</td>\n",
       "      <td>Тюмень</td>\n",
       "      <td>ultra</td>\n",
       "    </tr>\n",
       "  </tbody>\n",
       "</table>\n",
       "</div>"
      ],
      "text/plain": [
       "    user_id        name  age            city subscription_type\n",
       "0         1        Кира   22          Тюмень             ultra\n",
       "1         2   Станислав   31            Омск             ultra\n",
       "2         3     Алексей   20          Москва             ultra\n",
       "3         4  Константин   26  Ростов-на-Дону             ultra\n",
       "4         5       Адель   28            Омск             ultra\n",
       "5         6      Регина   25       Краснодар             ultra\n",
       "6         7       Игорь   23            Омск             ultra\n",
       "7         8        Юрий   23       Краснодар             ultra\n",
       "8         9          Ян   21       Пятигорск             ultra\n",
       "9        10     Валерий   18    Екатеринбург             ultra\n",
       "10       11       Агата   31       Краснодар             ultra\n",
       "11       12        Марк   27          Тюмень             ultra\n",
       "12       13         Ева   24       Краснодар             ultra\n",
       "13       14    Антонина   18       Пятигорск             ultra\n",
       "14       15     Валерия   24          Тюмень             ultra"
      ]
     },
     "execution_count": 3,
     "metadata": {},
     "output_type": "execute_result"
    }
   ],
   "source": [
    "data_users.head(15)"
   ]
  },
  {
   "cell_type": "code",
   "execution_count": 4,
   "id": "a4230980",
   "metadata": {},
   "outputs": [
    {
     "data": {
      "text/html": [
       "<div>\n",
       "<style scoped>\n",
       "    .dataframe tbody tr th:only-of-type {\n",
       "        vertical-align: middle;\n",
       "    }\n",
       "\n",
       "    .dataframe tbody tr th {\n",
       "        vertical-align: top;\n",
       "    }\n",
       "\n",
       "    .dataframe thead th {\n",
       "        text-align: right;\n",
       "    }\n",
       "</style>\n",
       "<table border=\"1\" class=\"dataframe\">\n",
       "  <thead>\n",
       "    <tr style=\"text-align: right;\">\n",
       "      <th></th>\n",
       "      <th>user_id</th>\n",
       "      <th>distance</th>\n",
       "      <th>duration</th>\n",
       "      <th>date</th>\n",
       "    </tr>\n",
       "  </thead>\n",
       "  <tbody>\n",
       "    <tr>\n",
       "      <th>0</th>\n",
       "      <td>1</td>\n",
       "      <td>4409.919140</td>\n",
       "      <td>25.599769</td>\n",
       "      <td>2021-01-01</td>\n",
       "    </tr>\n",
       "    <tr>\n",
       "      <th>1</th>\n",
       "      <td>1</td>\n",
       "      <td>2617.592153</td>\n",
       "      <td>15.816871</td>\n",
       "      <td>2021-01-18</td>\n",
       "    </tr>\n",
       "    <tr>\n",
       "      <th>2</th>\n",
       "      <td>1</td>\n",
       "      <td>754.159807</td>\n",
       "      <td>6.232113</td>\n",
       "      <td>2021-04-20</td>\n",
       "    </tr>\n",
       "    <tr>\n",
       "      <th>3</th>\n",
       "      <td>1</td>\n",
       "      <td>2694.783254</td>\n",
       "      <td>18.511000</td>\n",
       "      <td>2021-08-11</td>\n",
       "    </tr>\n",
       "    <tr>\n",
       "      <th>4</th>\n",
       "      <td>1</td>\n",
       "      <td>4028.687306</td>\n",
       "      <td>26.265803</td>\n",
       "      <td>2021-08-28</td>\n",
       "    </tr>\n",
       "    <tr>\n",
       "      <th>5</th>\n",
       "      <td>1</td>\n",
       "      <td>2770.890808</td>\n",
       "      <td>16.650138</td>\n",
       "      <td>2021-10-09</td>\n",
       "    </tr>\n",
       "    <tr>\n",
       "      <th>6</th>\n",
       "      <td>1</td>\n",
       "      <td>3039.020292</td>\n",
       "      <td>14.927879</td>\n",
       "      <td>2021-10-19</td>\n",
       "    </tr>\n",
       "    <tr>\n",
       "      <th>7</th>\n",
       "      <td>1</td>\n",
       "      <td>2842.118050</td>\n",
       "      <td>23.117468</td>\n",
       "      <td>2021-11-06</td>\n",
       "    </tr>\n",
       "    <tr>\n",
       "      <th>8</th>\n",
       "      <td>1</td>\n",
       "      <td>3412.690668</td>\n",
       "      <td>15.238072</td>\n",
       "      <td>2021-11-14</td>\n",
       "    </tr>\n",
       "    <tr>\n",
       "      <th>9</th>\n",
       "      <td>1</td>\n",
       "      <td>748.690645</td>\n",
       "      <td>15.041884</td>\n",
       "      <td>2021-11-22</td>\n",
       "    </tr>\n",
       "    <tr>\n",
       "      <th>10</th>\n",
       "      <td>1</td>\n",
       "      <td>4031.020195</td>\n",
       "      <td>17.674448</td>\n",
       "      <td>2021-12-14</td>\n",
       "    </tr>\n",
       "    <tr>\n",
       "      <th>11</th>\n",
       "      <td>1</td>\n",
       "      <td>2720.609748</td>\n",
       "      <td>9.529463</td>\n",
       "      <td>2021-12-22</td>\n",
       "    </tr>\n",
       "    <tr>\n",
       "      <th>12</th>\n",
       "      <td>2</td>\n",
       "      <td>3105.086678</td>\n",
       "      <td>24.307514</td>\n",
       "      <td>2021-03-15</td>\n",
       "    </tr>\n",
       "    <tr>\n",
       "      <th>13</th>\n",
       "      <td>2</td>\n",
       "      <td>3053.519401</td>\n",
       "      <td>11.543256</td>\n",
       "      <td>2021-03-18</td>\n",
       "    </tr>\n",
       "    <tr>\n",
       "      <th>14</th>\n",
       "      <td>2</td>\n",
       "      <td>4029.116927</td>\n",
       "      <td>25.109188</td>\n",
       "      <td>2021-03-23</td>\n",
       "    </tr>\n",
       "  </tbody>\n",
       "</table>\n",
       "</div>"
      ],
      "text/plain": [
       "    user_id     distance   duration       date\n",
       "0         1  4409.919140  25.599769 2021-01-01\n",
       "1         1  2617.592153  15.816871 2021-01-18\n",
       "2         1   754.159807   6.232113 2021-04-20\n",
       "3         1  2694.783254  18.511000 2021-08-11\n",
       "4         1  4028.687306  26.265803 2021-08-28\n",
       "5         1  2770.890808  16.650138 2021-10-09\n",
       "6         1  3039.020292  14.927879 2021-10-19\n",
       "7         1  2842.118050  23.117468 2021-11-06\n",
       "8         1  3412.690668  15.238072 2021-11-14\n",
       "9         1   748.690645  15.041884 2021-11-22\n",
       "10        1  4031.020195  17.674448 2021-12-14\n",
       "11        1  2720.609748   9.529463 2021-12-22\n",
       "12        2  3105.086678  24.307514 2021-03-15\n",
       "13        2  3053.519401  11.543256 2021-03-18\n",
       "14        2  4029.116927  25.109188 2021-03-23"
      ]
     },
     "execution_count": 4,
     "metadata": {},
     "output_type": "execute_result"
    }
   ],
   "source": [
    "data_rides.head(15)"
   ]
  },
  {
   "cell_type": "code",
   "execution_count": 5,
   "id": "26e53103",
   "metadata": {},
   "outputs": [
    {
     "data": {
      "text/html": [
       "<div>\n",
       "<style scoped>\n",
       "    .dataframe tbody tr th:only-of-type {\n",
       "        vertical-align: middle;\n",
       "    }\n",
       "\n",
       "    .dataframe tbody tr th {\n",
       "        vertical-align: top;\n",
       "    }\n",
       "\n",
       "    .dataframe thead th {\n",
       "        text-align: right;\n",
       "    }\n",
       "</style>\n",
       "<table border=\"1\" class=\"dataframe\">\n",
       "  <thead>\n",
       "    <tr style=\"text-align: right;\">\n",
       "      <th></th>\n",
       "      <th>subscription_type</th>\n",
       "      <th>minute_price</th>\n",
       "      <th>start_ride_price</th>\n",
       "      <th>subscription_fee</th>\n",
       "    </tr>\n",
       "  </thead>\n",
       "  <tbody>\n",
       "    <tr>\n",
       "      <th>0</th>\n",
       "      <td>free</td>\n",
       "      <td>8</td>\n",
       "      <td>50</td>\n",
       "      <td>0</td>\n",
       "    </tr>\n",
       "    <tr>\n",
       "      <th>1</th>\n",
       "      <td>ultra</td>\n",
       "      <td>6</td>\n",
       "      <td>0</td>\n",
       "      <td>199</td>\n",
       "    </tr>\n",
       "  </tbody>\n",
       "</table>\n",
       "</div>"
      ],
      "text/plain": [
       "  subscription_type  minute_price  start_ride_price  subscription_fee\n",
       "0              free             8                50                 0\n",
       "1             ultra             6                 0               199"
      ]
     },
     "execution_count": 5,
     "metadata": {},
     "output_type": "execute_result"
    }
   ],
   "source": [
    "data_subs.head(15)"
   ]
  },
  {
   "cell_type": "markdown",
   "id": "253be7aa",
   "metadata": {},
   "source": [
    "Посмотрим общую информацию о каждом датасете."
   ]
  },
  {
   "cell_type": "code",
   "execution_count": 6,
   "id": "a687bd0d",
   "metadata": {},
   "outputs": [
    {
     "name": "stdout",
     "output_type": "stream",
     "text": [
      "<class 'pandas.core.frame.DataFrame'>\n",
      "RangeIndex: 1565 entries, 0 to 1564\n",
      "Data columns (total 5 columns):\n",
      " #   Column             Non-Null Count  Dtype \n",
      "---  ------             --------------  ----- \n",
      " 0   user_id            1565 non-null   int64 \n",
      " 1   name               1565 non-null   object\n",
      " 2   age                1565 non-null   int64 \n",
      " 3   city               1565 non-null   object\n",
      " 4   subscription_type  1565 non-null   object\n",
      "dtypes: int64(2), object(3)\n",
      "memory usage: 61.3+ KB\n"
     ]
    }
   ],
   "source": [
    "data_users.info()"
   ]
  },
  {
   "cell_type": "code",
   "execution_count": 7,
   "id": "659271db",
   "metadata": {},
   "outputs": [
    {
     "name": "stdout",
     "output_type": "stream",
     "text": [
      "<class 'pandas.core.frame.DataFrame'>\n",
      "RangeIndex: 18068 entries, 0 to 18067\n",
      "Data columns (total 4 columns):\n",
      " #   Column    Non-Null Count  Dtype         \n",
      "---  ------    --------------  -----         \n",
      " 0   user_id   18068 non-null  int64         \n",
      " 1   distance  18068 non-null  float64       \n",
      " 2   duration  18068 non-null  float64       \n",
      " 3   date      18068 non-null  datetime64[ns]\n",
      "dtypes: datetime64[ns](1), float64(2), int64(1)\n",
      "memory usage: 564.8 KB\n"
     ]
    }
   ],
   "source": [
    "data_rides.info()"
   ]
  },
  {
   "cell_type": "code",
   "execution_count": 8,
   "id": "ea2d2b9e",
   "metadata": {},
   "outputs": [
    {
     "name": "stdout",
     "output_type": "stream",
     "text": [
      "<class 'pandas.core.frame.DataFrame'>\n",
      "RangeIndex: 2 entries, 0 to 1\n",
      "Data columns (total 4 columns):\n",
      " #   Column             Non-Null Count  Dtype \n",
      "---  ------             --------------  ----- \n",
      " 0   subscription_type  2 non-null      object\n",
      " 1   minute_price       2 non-null      int64 \n",
      " 2   start_ride_price   2 non-null      int64 \n",
      " 3   subscription_fee   2 non-null      int64 \n",
      "dtypes: int64(3), object(1)\n",
      "memory usage: 192.0+ bytes\n"
     ]
    }
   ],
   "source": [
    "data_subs.info()"
   ]
  },
  {
   "cell_type": "code",
   "execution_count": 9,
   "id": "88202cf2",
   "metadata": {},
   "outputs": [
    {
     "data": {
      "text/html": [
       "<div>\n",
       "<style scoped>\n",
       "    .dataframe tbody tr th:only-of-type {\n",
       "        vertical-align: middle;\n",
       "    }\n",
       "\n",
       "    .dataframe tbody tr th {\n",
       "        vertical-align: top;\n",
       "    }\n",
       "\n",
       "    .dataframe thead th {\n",
       "        text-align: right;\n",
       "    }\n",
       "</style>\n",
       "<table border=\"1\" class=\"dataframe\">\n",
       "  <thead>\n",
       "    <tr style=\"text-align: right;\">\n",
       "      <th></th>\n",
       "      <th>user_id</th>\n",
       "      <th>age</th>\n",
       "    </tr>\n",
       "  </thead>\n",
       "  <tbody>\n",
       "    <tr>\n",
       "      <th>count</th>\n",
       "      <td>1565.000000</td>\n",
       "      <td>1565.000000</td>\n",
       "    </tr>\n",
       "    <tr>\n",
       "      <th>mean</th>\n",
       "      <td>762.633866</td>\n",
       "      <td>24.922045</td>\n",
       "    </tr>\n",
       "    <tr>\n",
       "      <th>std</th>\n",
       "      <td>443.260155</td>\n",
       "      <td>4.553496</td>\n",
       "    </tr>\n",
       "    <tr>\n",
       "      <th>min</th>\n",
       "      <td>1.000000</td>\n",
       "      <td>12.000000</td>\n",
       "    </tr>\n",
       "    <tr>\n",
       "      <th>25%</th>\n",
       "      <td>378.000000</td>\n",
       "      <td>22.000000</td>\n",
       "    </tr>\n",
       "    <tr>\n",
       "      <th>50%</th>\n",
       "      <td>762.000000</td>\n",
       "      <td>25.000000</td>\n",
       "    </tr>\n",
       "    <tr>\n",
       "      <th>75%</th>\n",
       "      <td>1146.000000</td>\n",
       "      <td>28.000000</td>\n",
       "    </tr>\n",
       "    <tr>\n",
       "      <th>max</th>\n",
       "      <td>1534.000000</td>\n",
       "      <td>43.000000</td>\n",
       "    </tr>\n",
       "  </tbody>\n",
       "</table>\n",
       "</div>"
      ],
      "text/plain": [
       "           user_id          age\n",
       "count  1565.000000  1565.000000\n",
       "mean    762.633866    24.922045\n",
       "std     443.260155     4.553496\n",
       "min       1.000000    12.000000\n",
       "25%     378.000000    22.000000\n",
       "50%     762.000000    25.000000\n",
       "75%    1146.000000    28.000000\n",
       "max    1534.000000    43.000000"
      ]
     },
     "execution_count": 9,
     "metadata": {},
     "output_type": "execute_result"
    }
   ],
   "source": [
    "data_users.describe()"
   ]
  },
  {
   "cell_type": "code",
   "execution_count": 10,
   "id": "8fdf6c49",
   "metadata": {},
   "outputs": [
    {
     "data": {
      "text/html": [
       "<div>\n",
       "<style scoped>\n",
       "    .dataframe tbody tr th:only-of-type {\n",
       "        vertical-align: middle;\n",
       "    }\n",
       "\n",
       "    .dataframe tbody tr th {\n",
       "        vertical-align: top;\n",
       "    }\n",
       "\n",
       "    .dataframe thead th {\n",
       "        text-align: right;\n",
       "    }\n",
       "</style>\n",
       "<table border=\"1\" class=\"dataframe\">\n",
       "  <thead>\n",
       "    <tr style=\"text-align: right;\">\n",
       "      <th></th>\n",
       "      <th>user_id</th>\n",
       "      <th>distance</th>\n",
       "      <th>duration</th>\n",
       "    </tr>\n",
       "  </thead>\n",
       "  <tbody>\n",
       "    <tr>\n",
       "      <th>count</th>\n",
       "      <td>18068.000000</td>\n",
       "      <td>18068.000000</td>\n",
       "      <td>18068.000000</td>\n",
       "    </tr>\n",
       "    <tr>\n",
       "      <th>mean</th>\n",
       "      <td>842.869936</td>\n",
       "      <td>3070.659976</td>\n",
       "      <td>17.805011</td>\n",
       "    </tr>\n",
       "    <tr>\n",
       "      <th>std</th>\n",
       "      <td>434.734317</td>\n",
       "      <td>1116.831209</td>\n",
       "      <td>6.091051</td>\n",
       "    </tr>\n",
       "    <tr>\n",
       "      <th>min</th>\n",
       "      <td>1.000000</td>\n",
       "      <td>0.855683</td>\n",
       "      <td>0.500000</td>\n",
       "    </tr>\n",
       "    <tr>\n",
       "      <th>25%</th>\n",
       "      <td>487.000000</td>\n",
       "      <td>2543.226360</td>\n",
       "      <td>13.597563</td>\n",
       "    </tr>\n",
       "    <tr>\n",
       "      <th>50%</th>\n",
       "      <td>889.000000</td>\n",
       "      <td>3133.609994</td>\n",
       "      <td>17.678395</td>\n",
       "    </tr>\n",
       "    <tr>\n",
       "      <th>75%</th>\n",
       "      <td>1213.250000</td>\n",
       "      <td>3776.222735</td>\n",
       "      <td>21.724800</td>\n",
       "    </tr>\n",
       "    <tr>\n",
       "      <th>max</th>\n",
       "      <td>1534.000000</td>\n",
       "      <td>7211.007745</td>\n",
       "      <td>40.823963</td>\n",
       "    </tr>\n",
       "  </tbody>\n",
       "</table>\n",
       "</div>"
      ],
      "text/plain": [
       "            user_id      distance      duration\n",
       "count  18068.000000  18068.000000  18068.000000\n",
       "mean     842.869936   3070.659976     17.805011\n",
       "std      434.734317   1116.831209      6.091051\n",
       "min        1.000000      0.855683      0.500000\n",
       "25%      487.000000   2543.226360     13.597563\n",
       "50%      889.000000   3133.609994     17.678395\n",
       "75%     1213.250000   3776.222735     21.724800\n",
       "max     1534.000000   7211.007745     40.823963"
      ]
     },
     "execution_count": 10,
     "metadata": {},
     "output_type": "execute_result"
    }
   ],
   "source": [
    "data_rides.describe()"
   ]
  },
  {
   "cell_type": "code",
   "execution_count": 11,
   "id": "d97450e2",
   "metadata": {},
   "outputs": [
    {
     "data": {
      "text/html": [
       "<div>\n",
       "<style scoped>\n",
       "    .dataframe tbody tr th:only-of-type {\n",
       "        vertical-align: middle;\n",
       "    }\n",
       "\n",
       "    .dataframe tbody tr th {\n",
       "        vertical-align: top;\n",
       "    }\n",
       "\n",
       "    .dataframe thead th {\n",
       "        text-align: right;\n",
       "    }\n",
       "</style>\n",
       "<table border=\"1\" class=\"dataframe\">\n",
       "  <thead>\n",
       "    <tr style=\"text-align: right;\">\n",
       "      <th></th>\n",
       "      <th>minute_price</th>\n",
       "      <th>start_ride_price</th>\n",
       "      <th>subscription_fee</th>\n",
       "    </tr>\n",
       "  </thead>\n",
       "  <tbody>\n",
       "    <tr>\n",
       "      <th>count</th>\n",
       "      <td>2.000000</td>\n",
       "      <td>2.000000</td>\n",
       "      <td>2.000000</td>\n",
       "    </tr>\n",
       "    <tr>\n",
       "      <th>mean</th>\n",
       "      <td>7.000000</td>\n",
       "      <td>25.000000</td>\n",
       "      <td>99.500000</td>\n",
       "    </tr>\n",
       "    <tr>\n",
       "      <th>std</th>\n",
       "      <td>1.414214</td>\n",
       "      <td>35.355339</td>\n",
       "      <td>140.714249</td>\n",
       "    </tr>\n",
       "    <tr>\n",
       "      <th>min</th>\n",
       "      <td>6.000000</td>\n",
       "      <td>0.000000</td>\n",
       "      <td>0.000000</td>\n",
       "    </tr>\n",
       "    <tr>\n",
       "      <th>25%</th>\n",
       "      <td>6.500000</td>\n",
       "      <td>12.500000</td>\n",
       "      <td>49.750000</td>\n",
       "    </tr>\n",
       "    <tr>\n",
       "      <th>50%</th>\n",
       "      <td>7.000000</td>\n",
       "      <td>25.000000</td>\n",
       "      <td>99.500000</td>\n",
       "    </tr>\n",
       "    <tr>\n",
       "      <th>75%</th>\n",
       "      <td>7.500000</td>\n",
       "      <td>37.500000</td>\n",
       "      <td>149.250000</td>\n",
       "    </tr>\n",
       "    <tr>\n",
       "      <th>max</th>\n",
       "      <td>8.000000</td>\n",
       "      <td>50.000000</td>\n",
       "      <td>199.000000</td>\n",
       "    </tr>\n",
       "  </tbody>\n",
       "</table>\n",
       "</div>"
      ],
      "text/plain": [
       "       minute_price  start_ride_price  subscription_fee\n",
       "count      2.000000          2.000000          2.000000\n",
       "mean       7.000000         25.000000         99.500000\n",
       "std        1.414214         35.355339        140.714249\n",
       "min        6.000000          0.000000          0.000000\n",
       "25%        6.500000         12.500000         49.750000\n",
       "50%        7.000000         25.000000         99.500000\n",
       "75%        7.500000         37.500000        149.250000\n",
       "max        8.000000         50.000000        199.000000"
      ]
     },
     "execution_count": 11,
     "metadata": {},
     "output_type": "execute_result"
    }
   ],
   "source": [
    "data_subs.describe()"
   ]
  },
  {
   "cell_type": "markdown",
   "id": "e95ebca7",
   "metadata": {},
   "source": [
    "## Предобработка данных"
   ]
  },
  {
   "cell_type": "markdown",
   "id": "3d8142f2",
   "metadata": {},
   "source": [
    "Добавим столбец с номером месяца, во время которого была совершена поездка."
   ]
  },
  {
   "cell_type": "code",
   "execution_count": 12,
   "id": "fd74b6d1",
   "metadata": {},
   "outputs": [],
   "source": [
    "data_rides['month'] = data_rides['date'].dt.month"
   ]
  },
  {
   "cell_type": "markdown",
   "id": "ac9944f6",
   "metadata": {},
   "source": [
    "Выведем несколько строк, чтобы убедиться что преобразования выполнены."
   ]
  },
  {
   "cell_type": "code",
   "execution_count": 13,
   "id": "dab442b9",
   "metadata": {},
   "outputs": [
    {
     "data": {
      "text/html": [
       "<div>\n",
       "<style scoped>\n",
       "    .dataframe tbody tr th:only-of-type {\n",
       "        vertical-align: middle;\n",
       "    }\n",
       "\n",
       "    .dataframe tbody tr th {\n",
       "        vertical-align: top;\n",
       "    }\n",
       "\n",
       "    .dataframe thead th {\n",
       "        text-align: right;\n",
       "    }\n",
       "</style>\n",
       "<table border=\"1\" class=\"dataframe\">\n",
       "  <thead>\n",
       "    <tr style=\"text-align: right;\">\n",
       "      <th></th>\n",
       "      <th>user_id</th>\n",
       "      <th>distance</th>\n",
       "      <th>duration</th>\n",
       "      <th>date</th>\n",
       "      <th>month</th>\n",
       "    </tr>\n",
       "  </thead>\n",
       "  <tbody>\n",
       "    <tr>\n",
       "      <th>0</th>\n",
       "      <td>1</td>\n",
       "      <td>4409.919140</td>\n",
       "      <td>25.599769</td>\n",
       "      <td>2021-01-01</td>\n",
       "      <td>1</td>\n",
       "    </tr>\n",
       "    <tr>\n",
       "      <th>1</th>\n",
       "      <td>1</td>\n",
       "      <td>2617.592153</td>\n",
       "      <td>15.816871</td>\n",
       "      <td>2021-01-18</td>\n",
       "      <td>1</td>\n",
       "    </tr>\n",
       "    <tr>\n",
       "      <th>2</th>\n",
       "      <td>1</td>\n",
       "      <td>754.159807</td>\n",
       "      <td>6.232113</td>\n",
       "      <td>2021-04-20</td>\n",
       "      <td>4</td>\n",
       "    </tr>\n",
       "    <tr>\n",
       "      <th>3</th>\n",
       "      <td>1</td>\n",
       "      <td>2694.783254</td>\n",
       "      <td>18.511000</td>\n",
       "      <td>2021-08-11</td>\n",
       "      <td>8</td>\n",
       "    </tr>\n",
       "    <tr>\n",
       "      <th>4</th>\n",
       "      <td>1</td>\n",
       "      <td>4028.687306</td>\n",
       "      <td>26.265803</td>\n",
       "      <td>2021-08-28</td>\n",
       "      <td>8</td>\n",
       "    </tr>\n",
       "    <tr>\n",
       "      <th>5</th>\n",
       "      <td>1</td>\n",
       "      <td>2770.890808</td>\n",
       "      <td>16.650138</td>\n",
       "      <td>2021-10-09</td>\n",
       "      <td>10</td>\n",
       "    </tr>\n",
       "    <tr>\n",
       "      <th>6</th>\n",
       "      <td>1</td>\n",
       "      <td>3039.020292</td>\n",
       "      <td>14.927879</td>\n",
       "      <td>2021-10-19</td>\n",
       "      <td>10</td>\n",
       "    </tr>\n",
       "    <tr>\n",
       "      <th>7</th>\n",
       "      <td>1</td>\n",
       "      <td>2842.118050</td>\n",
       "      <td>23.117468</td>\n",
       "      <td>2021-11-06</td>\n",
       "      <td>11</td>\n",
       "    </tr>\n",
       "    <tr>\n",
       "      <th>8</th>\n",
       "      <td>1</td>\n",
       "      <td>3412.690668</td>\n",
       "      <td>15.238072</td>\n",
       "      <td>2021-11-14</td>\n",
       "      <td>11</td>\n",
       "    </tr>\n",
       "    <tr>\n",
       "      <th>9</th>\n",
       "      <td>1</td>\n",
       "      <td>748.690645</td>\n",
       "      <td>15.041884</td>\n",
       "      <td>2021-11-22</td>\n",
       "      <td>11</td>\n",
       "    </tr>\n",
       "  </tbody>\n",
       "</table>\n",
       "</div>"
      ],
      "text/plain": [
       "   user_id     distance   duration       date  month\n",
       "0        1  4409.919140  25.599769 2021-01-01      1\n",
       "1        1  2617.592153  15.816871 2021-01-18      1\n",
       "2        1   754.159807   6.232113 2021-04-20      4\n",
       "3        1  2694.783254  18.511000 2021-08-11      8\n",
       "4        1  4028.687306  26.265803 2021-08-28      8\n",
       "5        1  2770.890808  16.650138 2021-10-09     10\n",
       "6        1  3039.020292  14.927879 2021-10-19     10\n",
       "7        1  2842.118050  23.117468 2021-11-06     11\n",
       "8        1  3412.690668  15.238072 2021-11-14     11\n",
       "9        1   748.690645  15.041884 2021-11-22     11"
      ]
     },
     "execution_count": 13,
     "metadata": {},
     "output_type": "execute_result"
    }
   ],
   "source": [
    "data_rides.head(10)"
   ]
  },
  {
   "cell_type": "markdown",
   "id": "2f84be1b",
   "metadata": {},
   "source": [
    "Проверим, есть ли в наших исходных данных пропуски или дубликаты. "
   ]
  },
  {
   "cell_type": "code",
   "execution_count": 14,
   "id": "21525863",
   "metadata": {},
   "outputs": [
    {
     "data": {
      "text/plain": [
       "user_id              0\n",
       "name                 0\n",
       "age                  0\n",
       "city                 0\n",
       "subscription_type    0\n",
       "dtype: int64"
      ]
     },
     "execution_count": 14,
     "metadata": {},
     "output_type": "execute_result"
    }
   ],
   "source": [
    "data_users.isna().sum()"
   ]
  },
  {
   "cell_type": "markdown",
   "id": "9622d401",
   "metadata": {},
   "source": [
    "В наборе данных `data_users` пропуски отсутсвуют."
   ]
  },
  {
   "cell_type": "code",
   "execution_count": 15,
   "id": "83722197",
   "metadata": {},
   "outputs": [
    {
     "data": {
      "text/plain": [
       "31"
      ]
     },
     "execution_count": 15,
     "metadata": {},
     "output_type": "execute_result"
    }
   ],
   "source": [
    "data_users.duplicated().sum()"
   ]
  },
  {
   "cell_type": "markdown",
   "id": "f03d1d0d",
   "metadata": {},
   "source": [
    "Но зато есть явные дубликаты. Удалим их."
   ]
  },
  {
   "cell_type": "code",
   "execution_count": 16,
   "id": "a5f83967",
   "metadata": {},
   "outputs": [],
   "source": [
    "data_users = data_users.drop_duplicates()"
   ]
  },
  {
   "cell_type": "code",
   "execution_count": 17,
   "id": "53591747",
   "metadata": {},
   "outputs": [
    {
     "data": {
      "text/plain": [
       "user_id     0\n",
       "distance    0\n",
       "duration    0\n",
       "date        0\n",
       "month       0\n",
       "dtype: int64"
      ]
     },
     "execution_count": 17,
     "metadata": {},
     "output_type": "execute_result"
    }
   ],
   "source": [
    "data_rides.isna().sum()"
   ]
  },
  {
   "cell_type": "code",
   "execution_count": 18,
   "id": "6f239e0a",
   "metadata": {},
   "outputs": [
    {
     "data": {
      "text/plain": [
       "0"
      ]
     },
     "execution_count": 18,
     "metadata": {},
     "output_type": "execute_result"
    }
   ],
   "source": [
    "data_rides.duplicated().sum()"
   ]
  },
  {
   "cell_type": "code",
   "execution_count": 19,
   "id": "2b9eef1d",
   "metadata": {},
   "outputs": [
    {
     "data": {
      "text/plain": [
       "subscription_type    0\n",
       "minute_price         0\n",
       "start_ride_price     0\n",
       "subscription_fee     0\n",
       "dtype: int64"
      ]
     },
     "execution_count": 19,
     "metadata": {},
     "output_type": "execute_result"
    }
   ],
   "source": [
    "data_subs.isna().sum()"
   ]
  },
  {
   "cell_type": "code",
   "execution_count": 20,
   "id": "af6d202c",
   "metadata": {},
   "outputs": [
    {
     "data": {
      "text/plain": [
       "0"
      ]
     },
     "execution_count": 20,
     "metadata": {},
     "output_type": "execute_result"
    }
   ],
   "source": [
    "data_subs.duplicated().sum()"
   ]
  },
  {
   "cell_type": "markdown",
   "id": "ce8ed4f6",
   "metadata": {},
   "source": [
    "В датасетах `data_rides` и `data_subs` ни пропуски, ни дубликаты не обнаружены."
   ]
  },
  {
   "cell_type": "markdown",
   "id": "00c8e7eb",
   "metadata": {},
   "source": [
    "**Вывод: исходные данные в хорошем состоянии — пропусков нет ни в одном из датасетов, явные дубликаты обнаружены только в `data_users`.**"
   ]
  },
  {
   "cell_type": "markdown",
   "id": "212593c7",
   "metadata": {},
   "source": [
    "## Исследовательский анализ данных"
   ]
  },
  {
   "cell_type": "markdown",
   "id": "a301e26e",
   "metadata": {},
   "source": [
    "### Частота встречаемости городов"
   ]
  },
  {
   "cell_type": "code",
   "execution_count": 21,
   "id": "f0e2db5a",
   "metadata": {},
   "outputs": [
    {
     "data": {
      "text/plain": [
       "Text(0.5, 1.0, 'Распределение пользователей по городам')"
      ]
     },
     "execution_count": 21,
     "metadata": {},
     "output_type": "execute_result"
    },
    {
     "data": {
      "image/png": "[encoded data removed]",
      "text/plain": [
       "<Figure size 1200x600 with 1 Axes>"
      ]
     },
     "metadata": {},
     "output_type": "display_data"
    }
   ],
   "source": [
    "users_by_city = data_users['city'].value_counts().reset_index()\n",
    "sns.set(rc={\"figure.figsize\":(12 , 6)})\n",
    "sns.barplot(x='index', y='city', data=users_by_city, ci=None)\n",
    "plt.xlabel('Город')\n",
    "plt.ylabel('Количество пользователей')\n",
    "plt.title('Распределение пользователей по городам')"
   ]
  },
  {
   "cell_type": "markdown",
   "id": "0fe5b832",
   "metadata": {},
   "source": [
    "Распределение пользователей по городам достаточно равномерное, чуть больше пользователей из Пятигорска, чуть меньше — из Москвы."
   ]
  },
  {
   "cell_type": "markdown",
   "id": "7366ee82",
   "metadata": {},
   "source": [
    "### Соотношение пользователей с подпиской и без подписки"
   ]
  },
  {
   "cell_type": "code",
   "execution_count": 22,
   "id": "925ea53f",
   "metadata": {},
   "outputs": [
    {
     "name": "stdout",
     "output_type": "stream",
     "text": [
      "Количество пользователей с подпиской: 699\n",
      "Количество пользователей без подписки: 835\n"
     ]
    }
   ],
   "source": [
    "print(f'Количество пользователей с подпиской:', len(data_users[data_users['subscription_type'] == 'ultra']))\n",
    "print(f'Количество пользователей без подписки:', len(data_users[data_users['subscription_type'] == 'free'])) "
   ]
  },
  {
   "cell_type": "code",
   "execution_count": 23,
   "id": "82be721d",
   "metadata": {},
   "outputs": [
    {
     "data": {
      "text/plain": [
       "<AxesSubplot:title={'center':'Соотношение пользователей с подпиской и без подписки'}, ylabel='user_id'>"
      ]
     },
     "execution_count": 23,
     "metadata": {},
     "output_type": "execute_result"
    },
    {
     "data": {
      "image/png": "[encoded data removed]",
      "text/plain": [
       "<Figure size 1200x600 with 1 Axes>"
      ]
     },
     "metadata": {},
     "output_type": "display_data"
    }
   ],
   "source": [
    "data_users.groupby('subscription_type').count().plot(kind='pie',\n",
    "                                                     y='user_id',\n",
    "                                                     colors = ['steelblue', 'pink'],\n",
    "                                                     autopct='%1.0f%%',\n",
    "                                                     title='Соотношение пользователей с подпиской и без подписки',\n",
    "                                                     figsize=(12, 6))"
   ]
  },
  {
   "cell_type": "markdown",
   "id": "c500e704",
   "metadata": {},
   "source": [
    "По типу подписки пользователи делятся почти поровну — 46% пользователей с платной подпиской и 54% без неё."
   ]
  },
  {
   "cell_type": "markdown",
   "id": "6b651227",
   "metadata": {},
   "source": [
    "###  Возраст пользователей"
   ]
  },
  {
   "cell_type": "code",
   "execution_count": 24,
   "id": "b33a9902",
   "metadata": {},
   "outputs": [
    {
     "data": {
      "text/plain": [
       "Text(0, 0.5, 'Количество пользователей')"
      ]
     },
     "execution_count": 24,
     "metadata": {},
     "output_type": "execute_result"
    },
    {
     "data": {
      "image/png": "[encoded data removed]",
      "text/plain": [
       "<Figure size 1200x600 with 1 Axes>"
      ]
     },
     "metadata": {},
     "output_type": "display_data"
    }
   ],
   "source": [
    "data_users.plot(kind='hist',\n",
    "                y='age',\n",
    "                range=(0, 50),\n",
    "                bins=25,\n",
    "                linewidth=1,\n",
    "                alpha=1,\n",
    "                grid=True,\n",
    "                legend=True,\n",
    "                title='Распределение пользователей по возрасту',\n",
    "                figsize=(12, 6))\n",
    "plt.xlabel(\"Возраст\")\n",
    "plt.ylabel(\"Количество пользователей\")"
   ]
  },
  {
   "cell_type": "markdown",
   "id": "2eb16254",
   "metadata": {},
   "source": [
    "Средний возраст пользователя — 25 лет. В целом, сервисом преимущественно пользуются люди от 18 до 35 лет."
   ]
  },
  {
   "cell_type": "markdown",
   "id": "841edfe2",
   "metadata": {},
   "source": [
    "### Расстояние, которое пользователь преодолел за одну поездку"
   ]
  },
  {
   "cell_type": "code",
   "execution_count": 25,
   "id": "78c6ecd6",
   "metadata": {},
   "outputs": [
    {
     "data": {
      "text/plain": [
       "Text(0, 0.5, 'Количество поездок')"
      ]
     },
     "execution_count": 25,
     "metadata": {},
     "output_type": "execute_result"
    },
    {
     "data": {
      "image/png": "[encoded data removed]",
      "text/plain": [
       "<Figure size 1200x600 with 1 Axes>"
      ]
     },
     "metadata": {},
     "output_type": "display_data"
    }
   ],
   "source": [
    "data_rides.plot(kind='hist',\n",
    "                y='distance',\n",
    "                bins=30,\n",
    "                linewidth=1,\n",
    "                alpha=1,\n",
    "                grid=True,\n",
    "                legend=True,\n",
    "                title='Распределение поездок пользователей по преодоленному расстоянию',\n",
    "                figsize=(12, 6)) \n",
    "plt.xlabel(\"Расстояние, м\")\n",
    "plt.ylabel(\"Количество поездок\")"
   ]
  },
  {
   "cell_type": "markdown",
   "id": "76c764ef",
   "metadata": {},
   "source": [
    "Из полученной гистограммы видно, что в среднем пользователи проезжают около 3100 м. Небольшой пик на 500 м говорит нам о том, что среди пользователей есть категории, пользующиеся самокатами для перемещения на относительно короткие расстояния. В целом, большинство поездок было совершено на расстояния 2000-5000 метров."
   ]
  },
  {
   "cell_type": "markdown",
   "id": "2e23b771",
   "metadata": {},
   "source": [
    "### Продолжительность поездок"
   ]
  },
  {
   "cell_type": "code",
   "execution_count": 26,
   "id": "c6993557",
   "metadata": {},
   "outputs": [
    {
     "data": {
      "text/plain": [
       "Text(0, 0.5, 'Количество поездок')"
      ]
     },
     "execution_count": 26,
     "metadata": {},
     "output_type": "execute_result"
    },
    {
     "data": {
      "image/png": "[encoded data removed]",
      "text/plain": [
       "<Figure size 1200x600 with 1 Axes>"
      ]
     },
     "metadata": {},
     "output_type": "display_data"
    }
   ],
   "source": [
    "data_rides.plot(kind='hist',\n",
    "                y='duration',\n",
    "                bins=30,\n",
    "                linewidth=1,\n",
    "                alpha=1,\n",
    "                grid=True, \n",
    "                legend=True,\n",
    "                title='Распределение поездок пользователей по их продолжительности',\n",
    "                figsize=(12, 6))\n",
    "plt.xlabel(\"Продолжительность, мин\")\n",
    "plt.ylabel(\"Количество поездок\")"
   ]
  },
  {
   "cell_type": "markdown",
   "id": "cb4aa0dc",
   "metadata": {},
   "source": [
    "В среднем поездка длилась около 17,5 минут. Абсолютное большинство поездок занимали от 5 до 35 минут."
   ]
  },
  {
   "cell_type": "markdown",
   "id": "67ca13ca",
   "metadata": {},
   "source": [
    "**Вывод: аномалии не обнаружены.**"
   ]
  },
  {
   "cell_type": "markdown",
   "id": "4ef51331",
   "metadata": {},
   "source": [
    "## Объединение данных"
   ]
  },
  {
   "cell_type": "markdown",
   "id": "7bae18c7",
   "metadata": {},
   "source": [
    "### Объединение данных в единый датасет"
   ]
  },
  {
   "cell_type": "markdown",
   "id": "6c3f9ff3",
   "metadata": {},
   "source": [
    "Объединим данные в единый датасет."
   ]
  },
  {
   "cell_type": "code",
   "execution_count": 27,
   "id": "ee8f87b7",
   "metadata": {},
   "outputs": [],
   "source": [
    "data = data_users.merge(data_rides, on='user_id', how='inner')"
   ]
  },
  {
   "cell_type": "code",
   "execution_count": 28,
   "id": "9d807af7",
   "metadata": {},
   "outputs": [],
   "source": [
    "data = data.merge(data_subs, on='subscription_type', how='inner')"
   ]
  },
  {
   "cell_type": "code",
   "execution_count": 29,
   "id": "6629814c",
   "metadata": {},
   "outputs": [
    {
     "data": {
      "text/html": [
       "<div>\n",
       "<style scoped>\n",
       "    .dataframe tbody tr th:only-of-type {\n",
       "        vertical-align: middle;\n",
       "    }\n",
       "\n",
       "    .dataframe tbody tr th {\n",
       "        vertical-align: top;\n",
       "    }\n",
       "\n",
       "    .dataframe thead th {\n",
       "        text-align: right;\n",
       "    }\n",
       "</style>\n",
       "<table border=\"1\" class=\"dataframe\">\n",
       "  <thead>\n",
       "    <tr style=\"text-align: right;\">\n",
       "      <th></th>\n",
       "      <th>user_id</th>\n",
       "      <th>name</th>\n",
       "      <th>age</th>\n",
       "      <th>city</th>\n",
       "      <th>subscription_type</th>\n",
       "      <th>distance</th>\n",
       "      <th>duration</th>\n",
       "      <th>date</th>\n",
       "      <th>month</th>\n",
       "      <th>minute_price</th>\n",
       "      <th>start_ride_price</th>\n",
       "      <th>subscription_fee</th>\n",
       "    </tr>\n",
       "  </thead>\n",
       "  <tbody>\n",
       "    <tr>\n",
       "      <th>0</th>\n",
       "      <td>1</td>\n",
       "      <td>Кира</td>\n",
       "      <td>22</td>\n",
       "      <td>Тюмень</td>\n",
       "      <td>ultra</td>\n",
       "      <td>4409.919140</td>\n",
       "      <td>25.599769</td>\n",
       "      <td>2021-01-01</td>\n",
       "      <td>1</td>\n",
       "      <td>6</td>\n",
       "      <td>0</td>\n",
       "      <td>199</td>\n",
       "    </tr>\n",
       "    <tr>\n",
       "      <th>1</th>\n",
       "      <td>1</td>\n",
       "      <td>Кира</td>\n",
       "      <td>22</td>\n",
       "      <td>Тюмень</td>\n",
       "      <td>ultra</td>\n",
       "      <td>2617.592153</td>\n",
       "      <td>15.816871</td>\n",
       "      <td>2021-01-18</td>\n",
       "      <td>1</td>\n",
       "      <td>6</td>\n",
       "      <td>0</td>\n",
       "      <td>199</td>\n",
       "    </tr>\n",
       "    <tr>\n",
       "      <th>2</th>\n",
       "      <td>1</td>\n",
       "      <td>Кира</td>\n",
       "      <td>22</td>\n",
       "      <td>Тюмень</td>\n",
       "      <td>ultra</td>\n",
       "      <td>754.159807</td>\n",
       "      <td>6.232113</td>\n",
       "      <td>2021-04-20</td>\n",
       "      <td>4</td>\n",
       "      <td>6</td>\n",
       "      <td>0</td>\n",
       "      <td>199</td>\n",
       "    </tr>\n",
       "    <tr>\n",
       "      <th>3</th>\n",
       "      <td>1</td>\n",
       "      <td>Кира</td>\n",
       "      <td>22</td>\n",
       "      <td>Тюмень</td>\n",
       "      <td>ultra</td>\n",
       "      <td>2694.783254</td>\n",
       "      <td>18.511000</td>\n",
       "      <td>2021-08-11</td>\n",
       "      <td>8</td>\n",
       "      <td>6</td>\n",
       "      <td>0</td>\n",
       "      <td>199</td>\n",
       "    </tr>\n",
       "    <tr>\n",
       "      <th>4</th>\n",
       "      <td>1</td>\n",
       "      <td>Кира</td>\n",
       "      <td>22</td>\n",
       "      <td>Тюмень</td>\n",
       "      <td>ultra</td>\n",
       "      <td>4028.687306</td>\n",
       "      <td>26.265803</td>\n",
       "      <td>2021-08-28</td>\n",
       "      <td>8</td>\n",
       "      <td>6</td>\n",
       "      <td>0</td>\n",
       "      <td>199</td>\n",
       "    </tr>\n",
       "    <tr>\n",
       "      <th>5</th>\n",
       "      <td>1</td>\n",
       "      <td>Кира</td>\n",
       "      <td>22</td>\n",
       "      <td>Тюмень</td>\n",
       "      <td>ultra</td>\n",
       "      <td>2770.890808</td>\n",
       "      <td>16.650138</td>\n",
       "      <td>2021-10-09</td>\n",
       "      <td>10</td>\n",
       "      <td>6</td>\n",
       "      <td>0</td>\n",
       "      <td>199</td>\n",
       "    </tr>\n",
       "    <tr>\n",
       "      <th>6</th>\n",
       "      <td>1</td>\n",
       "      <td>Кира</td>\n",
       "      <td>22</td>\n",
       "      <td>Тюмень</td>\n",
       "      <td>ultra</td>\n",
       "      <td>3039.020292</td>\n",
       "      <td>14.927879</td>\n",
       "      <td>2021-10-19</td>\n",
       "      <td>10</td>\n",
       "      <td>6</td>\n",
       "      <td>0</td>\n",
       "      <td>199</td>\n",
       "    </tr>\n",
       "    <tr>\n",
       "      <th>7</th>\n",
       "      <td>1</td>\n",
       "      <td>Кира</td>\n",
       "      <td>22</td>\n",
       "      <td>Тюмень</td>\n",
       "      <td>ultra</td>\n",
       "      <td>2842.118050</td>\n",
       "      <td>23.117468</td>\n",
       "      <td>2021-11-06</td>\n",
       "      <td>11</td>\n",
       "      <td>6</td>\n",
       "      <td>0</td>\n",
       "      <td>199</td>\n",
       "    </tr>\n",
       "    <tr>\n",
       "      <th>8</th>\n",
       "      <td>1</td>\n",
       "      <td>Кира</td>\n",
       "      <td>22</td>\n",
       "      <td>Тюмень</td>\n",
       "      <td>ultra</td>\n",
       "      <td>3412.690668</td>\n",
       "      <td>15.238072</td>\n",
       "      <td>2021-11-14</td>\n",
       "      <td>11</td>\n",
       "      <td>6</td>\n",
       "      <td>0</td>\n",
       "      <td>199</td>\n",
       "    </tr>\n",
       "    <tr>\n",
       "      <th>9</th>\n",
       "      <td>1</td>\n",
       "      <td>Кира</td>\n",
       "      <td>22</td>\n",
       "      <td>Тюмень</td>\n",
       "      <td>ultra</td>\n",
       "      <td>748.690645</td>\n",
       "      <td>15.041884</td>\n",
       "      <td>2021-11-22</td>\n",
       "      <td>11</td>\n",
       "      <td>6</td>\n",
       "      <td>0</td>\n",
       "      <td>199</td>\n",
       "    </tr>\n",
       "    <tr>\n",
       "      <th>10</th>\n",
       "      <td>1</td>\n",
       "      <td>Кира</td>\n",
       "      <td>22</td>\n",
       "      <td>Тюмень</td>\n",
       "      <td>ultra</td>\n",
       "      <td>4031.020195</td>\n",
       "      <td>17.674448</td>\n",
       "      <td>2021-12-14</td>\n",
       "      <td>12</td>\n",
       "      <td>6</td>\n",
       "      <td>0</td>\n",
       "      <td>199</td>\n",
       "    </tr>\n",
       "    <tr>\n",
       "      <th>11</th>\n",
       "      <td>1</td>\n",
       "      <td>Кира</td>\n",
       "      <td>22</td>\n",
       "      <td>Тюмень</td>\n",
       "      <td>ultra</td>\n",
       "      <td>2720.609748</td>\n",
       "      <td>9.529463</td>\n",
       "      <td>2021-12-22</td>\n",
       "      <td>12</td>\n",
       "      <td>6</td>\n",
       "      <td>0</td>\n",
       "      <td>199</td>\n",
       "    </tr>\n",
       "    <tr>\n",
       "      <th>12</th>\n",
       "      <td>2</td>\n",
       "      <td>Станислав</td>\n",
       "      <td>31</td>\n",
       "      <td>Омск</td>\n",
       "      <td>ultra</td>\n",
       "      <td>3105.086678</td>\n",
       "      <td>24.307514</td>\n",
       "      <td>2021-03-15</td>\n",
       "      <td>3</td>\n",
       "      <td>6</td>\n",
       "      <td>0</td>\n",
       "      <td>199</td>\n",
       "    </tr>\n",
       "    <tr>\n",
       "      <th>13</th>\n",
       "      <td>2</td>\n",
       "      <td>Станислав</td>\n",
       "      <td>31</td>\n",
       "      <td>Омск</td>\n",
       "      <td>ultra</td>\n",
       "      <td>3053.519401</td>\n",
       "      <td>11.543256</td>\n",
       "      <td>2021-03-18</td>\n",
       "      <td>3</td>\n",
       "      <td>6</td>\n",
       "      <td>0</td>\n",
       "      <td>199</td>\n",
       "    </tr>\n",
       "    <tr>\n",
       "      <th>14</th>\n",
       "      <td>2</td>\n",
       "      <td>Станислав</td>\n",
       "      <td>31</td>\n",
       "      <td>Омск</td>\n",
       "      <td>ultra</td>\n",
       "      <td>4029.116927</td>\n",
       "      <td>25.109188</td>\n",
       "      <td>2021-03-23</td>\n",
       "      <td>3</td>\n",
       "      <td>6</td>\n",
       "      <td>0</td>\n",
       "      <td>199</td>\n",
       "    </tr>\n",
       "  </tbody>\n",
       "</table>\n",
       "</div>"
      ],
      "text/plain": [
       "    user_id       name  age    city subscription_type     distance   duration  \\\n",
       "0         1       Кира   22  Тюмень             ultra  4409.919140  25.599769   \n",
       "1         1       Кира   22  Тюмень             ultra  2617.592153  15.816871   \n",
       "2         1       Кира   22  Тюмень             ultra   754.159807   6.232113   \n",
       "3         1       Кира   22  Тюмень             ultra  2694.783254  18.511000   \n",
       "4         1       Кира   22  Тюмень             ultra  4028.687306  26.265803   \n",
       "5         1       Кира   22  Тюмень             ultra  2770.890808  16.650138   \n",
       "6         1       Кира   22  Тюмень             ultra  3039.020292  14.927879   \n",
       "7         1       Кира   22  Тюмень             ultra  2842.118050  23.117468   \n",
       "8         1       Кира   22  Тюмень             ultra  3412.690668  15.238072   \n",
       "9         1       Кира   22  Тюмень             ultra   748.690645  15.041884   \n",
       "10        1       Кира   22  Тюмень             ultra  4031.020195  17.674448   \n",
       "11        1       Кира   22  Тюмень             ultra  2720.609748   9.529463   \n",
       "12        2  Станислав   31    Омск             ultra  3105.086678  24.307514   \n",
       "13        2  Станислав   31    Омск             ultra  3053.519401  11.543256   \n",
       "14        2  Станислав   31    Омск             ultra  4029.116927  25.109188   \n",
       "\n",
       "         date  month  minute_price  start_ride_price  subscription_fee  \n",
       "0  2021-01-01      1             6                 0               199  \n",
       "1  2021-01-18      1             6                 0               199  \n",
       "2  2021-04-20      4             6                 0               199  \n",
       "3  2021-08-11      8             6                 0               199  \n",
       "4  2021-08-28      8             6                 0               199  \n",
       "5  2021-10-09     10             6                 0               199  \n",
       "6  2021-10-19     10             6                 0               199  \n",
       "7  2021-11-06     11             6                 0               199  \n",
       "8  2021-11-14     11             6                 0               199  \n",
       "9  2021-11-22     11             6                 0               199  \n",
       "10 2021-12-14     12             6                 0               199  \n",
       "11 2021-12-22     12             6                 0               199  \n",
       "12 2021-03-15      3             6                 0               199  \n",
       "13 2021-03-18      3             6                 0               199  \n",
       "14 2021-03-23      3             6                 0               199  "
      ]
     },
     "execution_count": 29,
     "metadata": {},
     "output_type": "execute_result"
    }
   ],
   "source": [
    "data.head(15)"
   ]
  },
  {
   "cell_type": "markdown",
   "id": "f24dd10f",
   "metadata": {},
   "source": [
    "### Отдельные датасеты для пользователей с подпиской и без"
   ]
  },
  {
   "cell_type": "markdown",
   "id": "0f3208d0",
   "metadata": {},
   "source": [
    "Сохраним отдельные датасеты для пользователей с платной подпиской (`data_users_ultra`) и без неё (`data_users_free`)."
   ]
  },
  {
   "cell_type": "code",
   "execution_count": 30,
   "id": "6073893d",
   "metadata": {},
   "outputs": [
    {
     "data": {
      "text/html": [
       "<div>\n",
       "<style scoped>\n",
       "    .dataframe tbody tr th:only-of-type {\n",
       "        vertical-align: middle;\n",
       "    }\n",
       "\n",
       "    .dataframe tbody tr th {\n",
       "        vertical-align: top;\n",
       "    }\n",
       "\n",
       "    .dataframe thead th {\n",
       "        text-align: right;\n",
       "    }\n",
       "</style>\n",
       "<table border=\"1\" class=\"dataframe\">\n",
       "  <thead>\n",
       "    <tr style=\"text-align: right;\">\n",
       "      <th></th>\n",
       "      <th>user_id</th>\n",
       "      <th>name</th>\n",
       "      <th>age</th>\n",
       "      <th>city</th>\n",
       "      <th>subscription_type</th>\n",
       "      <th>distance</th>\n",
       "      <th>duration</th>\n",
       "      <th>date</th>\n",
       "      <th>month</th>\n",
       "      <th>minute_price</th>\n",
       "      <th>start_ride_price</th>\n",
       "      <th>subscription_fee</th>\n",
       "    </tr>\n",
       "  </thead>\n",
       "  <tbody>\n",
       "    <tr>\n",
       "      <th>0</th>\n",
       "      <td>1</td>\n",
       "      <td>Кира</td>\n",
       "      <td>22</td>\n",
       "      <td>Тюмень</td>\n",
       "      <td>ultra</td>\n",
       "      <td>4409.919140</td>\n",
       "      <td>25.599769</td>\n",
       "      <td>2021-01-01</td>\n",
       "      <td>1</td>\n",
       "      <td>6</td>\n",
       "      <td>0</td>\n",
       "      <td>199</td>\n",
       "    </tr>\n",
       "    <tr>\n",
       "      <th>1</th>\n",
       "      <td>1</td>\n",
       "      <td>Кира</td>\n",
       "      <td>22</td>\n",
       "      <td>Тюмень</td>\n",
       "      <td>ultra</td>\n",
       "      <td>2617.592153</td>\n",
       "      <td>15.816871</td>\n",
       "      <td>2021-01-18</td>\n",
       "      <td>1</td>\n",
       "      <td>6</td>\n",
       "      <td>0</td>\n",
       "      <td>199</td>\n",
       "    </tr>\n",
       "    <tr>\n",
       "      <th>2</th>\n",
       "      <td>1</td>\n",
       "      <td>Кира</td>\n",
       "      <td>22</td>\n",
       "      <td>Тюмень</td>\n",
       "      <td>ultra</td>\n",
       "      <td>754.159807</td>\n",
       "      <td>6.232113</td>\n",
       "      <td>2021-04-20</td>\n",
       "      <td>4</td>\n",
       "      <td>6</td>\n",
       "      <td>0</td>\n",
       "      <td>199</td>\n",
       "    </tr>\n",
       "    <tr>\n",
       "      <th>3</th>\n",
       "      <td>1</td>\n",
       "      <td>Кира</td>\n",
       "      <td>22</td>\n",
       "      <td>Тюмень</td>\n",
       "      <td>ultra</td>\n",
       "      <td>2694.783254</td>\n",
       "      <td>18.511000</td>\n",
       "      <td>2021-08-11</td>\n",
       "      <td>8</td>\n",
       "      <td>6</td>\n",
       "      <td>0</td>\n",
       "      <td>199</td>\n",
       "    </tr>\n",
       "    <tr>\n",
       "      <th>4</th>\n",
       "      <td>1</td>\n",
       "      <td>Кира</td>\n",
       "      <td>22</td>\n",
       "      <td>Тюмень</td>\n",
       "      <td>ultra</td>\n",
       "      <td>4028.687306</td>\n",
       "      <td>26.265803</td>\n",
       "      <td>2021-08-28</td>\n",
       "      <td>8</td>\n",
       "      <td>6</td>\n",
       "      <td>0</td>\n",
       "      <td>199</td>\n",
       "    </tr>\n",
       "    <tr>\n",
       "      <th>5</th>\n",
       "      <td>1</td>\n",
       "      <td>Кира</td>\n",
       "      <td>22</td>\n",
       "      <td>Тюмень</td>\n",
       "      <td>ultra</td>\n",
       "      <td>2770.890808</td>\n",
       "      <td>16.650138</td>\n",
       "      <td>2021-10-09</td>\n",
       "      <td>10</td>\n",
       "      <td>6</td>\n",
       "      <td>0</td>\n",
       "      <td>199</td>\n",
       "    </tr>\n",
       "    <tr>\n",
       "      <th>6</th>\n",
       "      <td>1</td>\n",
       "      <td>Кира</td>\n",
       "      <td>22</td>\n",
       "      <td>Тюмень</td>\n",
       "      <td>ultra</td>\n",
       "      <td>3039.020292</td>\n",
       "      <td>14.927879</td>\n",
       "      <td>2021-10-19</td>\n",
       "      <td>10</td>\n",
       "      <td>6</td>\n",
       "      <td>0</td>\n",
       "      <td>199</td>\n",
       "    </tr>\n",
       "    <tr>\n",
       "      <th>7</th>\n",
       "      <td>1</td>\n",
       "      <td>Кира</td>\n",
       "      <td>22</td>\n",
       "      <td>Тюмень</td>\n",
       "      <td>ultra</td>\n",
       "      <td>2842.118050</td>\n",
       "      <td>23.117468</td>\n",
       "      <td>2021-11-06</td>\n",
       "      <td>11</td>\n",
       "      <td>6</td>\n",
       "      <td>0</td>\n",
       "      <td>199</td>\n",
       "    </tr>\n",
       "    <tr>\n",
       "      <th>8</th>\n",
       "      <td>1</td>\n",
       "      <td>Кира</td>\n",
       "      <td>22</td>\n",
       "      <td>Тюмень</td>\n",
       "      <td>ultra</td>\n",
       "      <td>3412.690668</td>\n",
       "      <td>15.238072</td>\n",
       "      <td>2021-11-14</td>\n",
       "      <td>11</td>\n",
       "      <td>6</td>\n",
       "      <td>0</td>\n",
       "      <td>199</td>\n",
       "    </tr>\n",
       "    <tr>\n",
       "      <th>9</th>\n",
       "      <td>1</td>\n",
       "      <td>Кира</td>\n",
       "      <td>22</td>\n",
       "      <td>Тюмень</td>\n",
       "      <td>ultra</td>\n",
       "      <td>748.690645</td>\n",
       "      <td>15.041884</td>\n",
       "      <td>2021-11-22</td>\n",
       "      <td>11</td>\n",
       "      <td>6</td>\n",
       "      <td>0</td>\n",
       "      <td>199</td>\n",
       "    </tr>\n",
       "    <tr>\n",
       "      <th>10</th>\n",
       "      <td>1</td>\n",
       "      <td>Кира</td>\n",
       "      <td>22</td>\n",
       "      <td>Тюмень</td>\n",
       "      <td>ultra</td>\n",
       "      <td>4031.020195</td>\n",
       "      <td>17.674448</td>\n",
       "      <td>2021-12-14</td>\n",
       "      <td>12</td>\n",
       "      <td>6</td>\n",
       "      <td>0</td>\n",
       "      <td>199</td>\n",
       "    </tr>\n",
       "    <tr>\n",
       "      <th>11</th>\n",
       "      <td>1</td>\n",
       "      <td>Кира</td>\n",
       "      <td>22</td>\n",
       "      <td>Тюмень</td>\n",
       "      <td>ultra</td>\n",
       "      <td>2720.609748</td>\n",
       "      <td>9.529463</td>\n",
       "      <td>2021-12-22</td>\n",
       "      <td>12</td>\n",
       "      <td>6</td>\n",
       "      <td>0</td>\n",
       "      <td>199</td>\n",
       "    </tr>\n",
       "    <tr>\n",
       "      <th>12</th>\n",
       "      <td>2</td>\n",
       "      <td>Станислав</td>\n",
       "      <td>31</td>\n",
       "      <td>Омск</td>\n",
       "      <td>ultra</td>\n",
       "      <td>3105.086678</td>\n",
       "      <td>24.307514</td>\n",
       "      <td>2021-03-15</td>\n",
       "      <td>3</td>\n",
       "      <td>6</td>\n",
       "      <td>0</td>\n",
       "      <td>199</td>\n",
       "    </tr>\n",
       "    <tr>\n",
       "      <th>13</th>\n",
       "      <td>2</td>\n",
       "      <td>Станислав</td>\n",
       "      <td>31</td>\n",
       "      <td>Омск</td>\n",
       "      <td>ultra</td>\n",
       "      <td>3053.519401</td>\n",
       "      <td>11.543256</td>\n",
       "      <td>2021-03-18</td>\n",
       "      <td>3</td>\n",
       "      <td>6</td>\n",
       "      <td>0</td>\n",
       "      <td>199</td>\n",
       "    </tr>\n",
       "    <tr>\n",
       "      <th>14</th>\n",
       "      <td>2</td>\n",
       "      <td>Станислав</td>\n",
       "      <td>31</td>\n",
       "      <td>Омск</td>\n",
       "      <td>ultra</td>\n",
       "      <td>4029.116927</td>\n",
       "      <td>25.109188</td>\n",
       "      <td>2021-03-23</td>\n",
       "      <td>3</td>\n",
       "      <td>6</td>\n",
       "      <td>0</td>\n",
       "      <td>199</td>\n",
       "    </tr>\n",
       "  </tbody>\n",
       "</table>\n",
       "</div>"
      ],
      "text/plain": [
       "    user_id       name  age    city subscription_type     distance   duration  \\\n",
       "0         1       Кира   22  Тюмень             ultra  4409.919140  25.599769   \n",
       "1         1       Кира   22  Тюмень             ultra  2617.592153  15.816871   \n",
       "2         1       Кира   22  Тюмень             ultra   754.159807   6.232113   \n",
       "3         1       Кира   22  Тюмень             ultra  2694.783254  18.511000   \n",
       "4         1       Кира   22  Тюмень             ultra  4028.687306  26.265803   \n",
       "5         1       Кира   22  Тюмень             ultra  2770.890808  16.650138   \n",
       "6         1       Кира   22  Тюмень             ultra  3039.020292  14.927879   \n",
       "7         1       Кира   22  Тюмень             ultra  2842.118050  23.117468   \n",
       "8         1       Кира   22  Тюмень             ultra  3412.690668  15.238072   \n",
       "9         1       Кира   22  Тюмень             ultra   748.690645  15.041884   \n",
       "10        1       Кира   22  Тюмень             ultra  4031.020195  17.674448   \n",
       "11        1       Кира   22  Тюмень             ultra  2720.609748   9.529463   \n",
       "12        2  Станислав   31    Омск             ultra  3105.086678  24.307514   \n",
       "13        2  Станислав   31    Омск             ultra  3053.519401  11.543256   \n",
       "14        2  Станислав   31    Омск             ultra  4029.116927  25.109188   \n",
       "\n",
       "         date  month  minute_price  start_ride_price  subscription_fee  \n",
       "0  2021-01-01      1             6                 0               199  \n",
       "1  2021-01-18      1             6                 0               199  \n",
       "2  2021-04-20      4             6                 0               199  \n",
       "3  2021-08-11      8             6                 0               199  \n",
       "4  2021-08-28      8             6                 0               199  \n",
       "5  2021-10-09     10             6                 0               199  \n",
       "6  2021-10-19     10             6                 0               199  \n",
       "7  2021-11-06     11             6                 0               199  \n",
       "8  2021-11-14     11             6                 0               199  \n",
       "9  2021-11-22     11             6                 0               199  \n",
       "10 2021-12-14     12             6                 0               199  \n",
       "11 2021-12-22     12             6                 0               199  \n",
       "12 2021-03-15      3             6                 0               199  \n",
       "13 2021-03-18      3             6                 0               199  \n",
       "14 2021-03-23      3             6                 0               199  "
      ]
     },
     "execution_count": 30,
     "metadata": {},
     "output_type": "execute_result"
    }
   ],
   "source": [
    "data_users_ultra = data[data['subscription_type'] == 'ultra']\n",
    "data_users_ultra.head(15)"
   ]
  },
  {
   "cell_type": "code",
   "execution_count": 31,
   "id": "d1b16374",
   "metadata": {},
   "outputs": [
    {
     "data": {
      "text/html": [
       "<div>\n",
       "<style scoped>\n",
       "    .dataframe tbody tr th:only-of-type {\n",
       "        vertical-align: middle;\n",
       "    }\n",
       "\n",
       "    .dataframe tbody tr th {\n",
       "        vertical-align: top;\n",
       "    }\n",
       "\n",
       "    .dataframe thead th {\n",
       "        text-align: right;\n",
       "    }\n",
       "</style>\n",
       "<table border=\"1\" class=\"dataframe\">\n",
       "  <thead>\n",
       "    <tr style=\"text-align: right;\">\n",
       "      <th></th>\n",
       "      <th>user_id</th>\n",
       "      <th>name</th>\n",
       "      <th>age</th>\n",
       "      <th>city</th>\n",
       "      <th>subscription_type</th>\n",
       "      <th>distance</th>\n",
       "      <th>duration</th>\n",
       "      <th>date</th>\n",
       "      <th>month</th>\n",
       "      <th>minute_price</th>\n",
       "      <th>start_ride_price</th>\n",
       "      <th>subscription_fee</th>\n",
       "    </tr>\n",
       "  </thead>\n",
       "  <tbody>\n",
       "    <tr>\n",
       "      <th>6500</th>\n",
       "      <td>700</td>\n",
       "      <td>Айдар</td>\n",
       "      <td>22</td>\n",
       "      <td>Омск</td>\n",
       "      <td>free</td>\n",
       "      <td>2515.690719</td>\n",
       "      <td>14.944286</td>\n",
       "      <td>2021-01-02</td>\n",
       "      <td>1</td>\n",
       "      <td>8</td>\n",
       "      <td>50</td>\n",
       "      <td>0</td>\n",
       "    </tr>\n",
       "    <tr>\n",
       "      <th>6501</th>\n",
       "      <td>700</td>\n",
       "      <td>Айдар</td>\n",
       "      <td>22</td>\n",
       "      <td>Омск</td>\n",
       "      <td>free</td>\n",
       "      <td>846.932642</td>\n",
       "      <td>16.234663</td>\n",
       "      <td>2021-02-01</td>\n",
       "      <td>2</td>\n",
       "      <td>8</td>\n",
       "      <td>50</td>\n",
       "      <td>0</td>\n",
       "    </tr>\n",
       "    <tr>\n",
       "      <th>6502</th>\n",
       "      <td>700</td>\n",
       "      <td>Айдар</td>\n",
       "      <td>22</td>\n",
       "      <td>Омск</td>\n",
       "      <td>free</td>\n",
       "      <td>4004.434142</td>\n",
       "      <td>20.016628</td>\n",
       "      <td>2021-02-04</td>\n",
       "      <td>2</td>\n",
       "      <td>8</td>\n",
       "      <td>50</td>\n",
       "      <td>0</td>\n",
       "    </tr>\n",
       "    <tr>\n",
       "      <th>6503</th>\n",
       "      <td>700</td>\n",
       "      <td>Айдар</td>\n",
       "      <td>22</td>\n",
       "      <td>Омск</td>\n",
       "      <td>free</td>\n",
       "      <td>1205.911290</td>\n",
       "      <td>9.782872</td>\n",
       "      <td>2021-02-10</td>\n",
       "      <td>2</td>\n",
       "      <td>8</td>\n",
       "      <td>50</td>\n",
       "      <td>0</td>\n",
       "    </tr>\n",
       "    <tr>\n",
       "      <th>6504</th>\n",
       "      <td>700</td>\n",
       "      <td>Айдар</td>\n",
       "      <td>22</td>\n",
       "      <td>Омск</td>\n",
       "      <td>free</td>\n",
       "      <td>3047.379435</td>\n",
       "      <td>17.427673</td>\n",
       "      <td>2021-02-14</td>\n",
       "      <td>2</td>\n",
       "      <td>8</td>\n",
       "      <td>50</td>\n",
       "      <td>0</td>\n",
       "    </tr>\n",
       "    <tr>\n",
       "      <th>6505</th>\n",
       "      <td>700</td>\n",
       "      <td>Айдар</td>\n",
       "      <td>22</td>\n",
       "      <td>Омск</td>\n",
       "      <td>free</td>\n",
       "      <td>4342.002254</td>\n",
       "      <td>22.368009</td>\n",
       "      <td>2021-02-23</td>\n",
       "      <td>2</td>\n",
       "      <td>8</td>\n",
       "      <td>50</td>\n",
       "      <td>0</td>\n",
       "    </tr>\n",
       "    <tr>\n",
       "      <th>6506</th>\n",
       "      <td>700</td>\n",
       "      <td>Айдар</td>\n",
       "      <td>22</td>\n",
       "      <td>Омск</td>\n",
       "      <td>free</td>\n",
       "      <td>3798.334905</td>\n",
       "      <td>18.243756</td>\n",
       "      <td>2021-03-03</td>\n",
       "      <td>3</td>\n",
       "      <td>8</td>\n",
       "      <td>50</td>\n",
       "      <td>0</td>\n",
       "    </tr>\n",
       "    <tr>\n",
       "      <th>6507</th>\n",
       "      <td>700</td>\n",
       "      <td>Айдар</td>\n",
       "      <td>22</td>\n",
       "      <td>Омск</td>\n",
       "      <td>free</td>\n",
       "      <td>2984.551206</td>\n",
       "      <td>15.424899</td>\n",
       "      <td>2021-04-09</td>\n",
       "      <td>4</td>\n",
       "      <td>8</td>\n",
       "      <td>50</td>\n",
       "      <td>0</td>\n",
       "    </tr>\n",
       "    <tr>\n",
       "      <th>6508</th>\n",
       "      <td>700</td>\n",
       "      <td>Айдар</td>\n",
       "      <td>22</td>\n",
       "      <td>Омск</td>\n",
       "      <td>free</td>\n",
       "      <td>3360.107141</td>\n",
       "      <td>16.765497</td>\n",
       "      <td>2021-06-12</td>\n",
       "      <td>6</td>\n",
       "      <td>8</td>\n",
       "      <td>50</td>\n",
       "      <td>0</td>\n",
       "    </tr>\n",
       "    <tr>\n",
       "      <th>6509</th>\n",
       "      <td>700</td>\n",
       "      <td>Айдар</td>\n",
       "      <td>22</td>\n",
       "      <td>Омск</td>\n",
       "      <td>free</td>\n",
       "      <td>2567.543847</td>\n",
       "      <td>11.312160</td>\n",
       "      <td>2021-06-23</td>\n",
       "      <td>6</td>\n",
       "      <td>8</td>\n",
       "      <td>50</td>\n",
       "      <td>0</td>\n",
       "    </tr>\n",
       "    <tr>\n",
       "      <th>6510</th>\n",
       "      <td>700</td>\n",
       "      <td>Айдар</td>\n",
       "      <td>22</td>\n",
       "      <td>Омск</td>\n",
       "      <td>free</td>\n",
       "      <td>4110.232038</td>\n",
       "      <td>15.807640</td>\n",
       "      <td>2021-07-08</td>\n",
       "      <td>7</td>\n",
       "      <td>8</td>\n",
       "      <td>50</td>\n",
       "      <td>0</td>\n",
       "    </tr>\n",
       "    <tr>\n",
       "      <th>6511</th>\n",
       "      <td>700</td>\n",
       "      <td>Айдар</td>\n",
       "      <td>22</td>\n",
       "      <td>Омск</td>\n",
       "      <td>free</td>\n",
       "      <td>288.974241</td>\n",
       "      <td>4.788112</td>\n",
       "      <td>2021-07-18</td>\n",
       "      <td>7</td>\n",
       "      <td>8</td>\n",
       "      <td>50</td>\n",
       "      <td>0</td>\n",
       "    </tr>\n",
       "    <tr>\n",
       "      <th>6512</th>\n",
       "      <td>700</td>\n",
       "      <td>Айдар</td>\n",
       "      <td>22</td>\n",
       "      <td>Омск</td>\n",
       "      <td>free</td>\n",
       "      <td>4071.654669</td>\n",
       "      <td>16.370546</td>\n",
       "      <td>2021-08-17</td>\n",
       "      <td>8</td>\n",
       "      <td>8</td>\n",
       "      <td>50</td>\n",
       "      <td>0</td>\n",
       "    </tr>\n",
       "    <tr>\n",
       "      <th>6513</th>\n",
       "      <td>700</td>\n",
       "      <td>Айдар</td>\n",
       "      <td>22</td>\n",
       "      <td>Омск</td>\n",
       "      <td>free</td>\n",
       "      <td>1920.188901</td>\n",
       "      <td>9.608453</td>\n",
       "      <td>2021-10-08</td>\n",
       "      <td>10</td>\n",
       "      <td>8</td>\n",
       "      <td>50</td>\n",
       "      <td>0</td>\n",
       "    </tr>\n",
       "    <tr>\n",
       "      <th>6514</th>\n",
       "      <td>700</td>\n",
       "      <td>Айдар</td>\n",
       "      <td>22</td>\n",
       "      <td>Омск</td>\n",
       "      <td>free</td>\n",
       "      <td>4402.389717</td>\n",
       "      <td>33.013035</td>\n",
       "      <td>2021-10-15</td>\n",
       "      <td>10</td>\n",
       "      <td>8</td>\n",
       "      <td>50</td>\n",
       "      <td>0</td>\n",
       "    </tr>\n",
       "  </tbody>\n",
       "</table>\n",
       "</div>"
      ],
      "text/plain": [
       "      user_id   name  age  city subscription_type     distance   duration  \\\n",
       "6500      700  Айдар   22  Омск              free  2515.690719  14.944286   \n",
       "6501      700  Айдар   22  Омск              free   846.932642  16.234663   \n",
       "6502      700  Айдар   22  Омск              free  4004.434142  20.016628   \n",
       "6503      700  Айдар   22  Омск              free  1205.911290   9.782872   \n",
       "6504      700  Айдар   22  Омск              free  3047.379435  17.427673   \n",
       "6505      700  Айдар   22  Омск              free  4342.002254  22.368009   \n",
       "6506      700  Айдар   22  Омск              free  3798.334905  18.243756   \n",
       "6507      700  Айдар   22  Омск              free  2984.551206  15.424899   \n",
       "6508      700  Айдар   22  Омск              free  3360.107141  16.765497   \n",
       "6509      700  Айдар   22  Омск              free  2567.543847  11.312160   \n",
       "6510      700  Айдар   22  Омск              free  4110.232038  15.807640   \n",
       "6511      700  Айдар   22  Омск              free   288.974241   4.788112   \n",
       "6512      700  Айдар   22  Омск              free  4071.654669  16.370546   \n",
       "6513      700  Айдар   22  Омск              free  1920.188901   9.608453   \n",
       "6514      700  Айдар   22  Омск              free  4402.389717  33.013035   \n",
       "\n",
       "           date  month  minute_price  start_ride_price  subscription_fee  \n",
       "6500 2021-01-02      1             8                50                 0  \n",
       "6501 2021-02-01      2             8                50                 0  \n",
       "6502 2021-02-04      2             8                50                 0  \n",
       "6503 2021-02-10      2             8                50                 0  \n",
       "6504 2021-02-14      2             8                50                 0  \n",
       "6505 2021-02-23      2             8                50                 0  \n",
       "6506 2021-03-03      3             8                50                 0  \n",
       "6507 2021-04-09      4             8                50                 0  \n",
       "6508 2021-06-12      6             8                50                 0  \n",
       "6509 2021-06-23      6             8                50                 0  \n",
       "6510 2021-07-08      7             8                50                 0  \n",
       "6511 2021-07-18      7             8                50                 0  \n",
       "6512 2021-08-17      8             8                50                 0  \n",
       "6513 2021-10-08     10             8                50                 0  \n",
       "6514 2021-10-15     10             8                50                 0  "
      ]
     },
     "execution_count": 31,
     "metadata": {},
     "output_type": "execute_result"
    }
   ],
   "source": [
    "data_users_free = data[data['subscription_type'] == 'free']\n",
    "data_users_free.head(15)"
   ]
  },
  {
   "cell_type": "markdown",
   "id": "685716d4",
   "metadata": {},
   "source": [
    "### Визуализация данных о расстоянии и времени поездок для пользователей обеих категорий"
   ]
  },
  {
   "cell_type": "markdown",
   "id": "bef71a92",
   "metadata": {},
   "source": [
    "Посмотрим, есть ли разница в поведении пользователей в зависимости от их тарифного плана. Для этого сравним распределения  поездок обеих категорий по их продолжительности, преодоленному расстоянию."
   ]
  },
  {
   "cell_type": "code",
   "execution_count": 32,
   "id": "0d36527a",
   "metadata": {},
   "outputs": [
    {
     "data": {
      "text/plain": [
       "Text(0, 0.5, 'Количество поездок')"
      ]
     },
     "execution_count": 32,
     "metadata": {},
     "output_type": "execute_result"
    },
    {
     "data": {
      "image/png": "[encoded data removed]",
      "text/plain": [
       "<Figure size 1200x600 with 1 Axes>"
      ]
     },
     "metadata": {},
     "output_type": "display_data"
    }
   ],
   "source": [
    "ax = data_users_free.plot(kind='hist',\n",
    "                          y='distance',\n",
    "                          histtype='step', \n",
    "                          bins=25,\n",
    "                          linewidth=5,\n",
    "                          alpha=0.7,\n",
    "                          label='free')\n",
    "data_users_ultra.plot(kind='hist',\n",
    "                      y='distance',\n",
    "                      histtype='step',\n",
    "                      bins=25,\n",
    "                      linewidth=5,\n",
    "                      alpha=0.7,\n",
    "                      label='ultra',\n",
    "                      ax=ax,\n",
    "                      grid=True,\n",
    "                      legend=True,\n",
    "                      title='Распределение поездок по преодоленному расстоянию для пользователей обеих категорий',\n",
    "                      figsize=(12, 6))\n",
    "plt.xlabel(\"Расстояние, м\")\n",
    "plt.ylabel(\"Количество поездок\")"
   ]
  },
  {
   "cell_type": "markdown",
   "id": "4daa26a0",
   "metadata": {},
   "source": [
    "Из графика видно, что данные по двум категориям имеют общую форму распределения, но пики графиков не совпадают, из чего можно сделать вывод, что пользователи разных категорий ведут себя немного по-разному."
   ]
  },
  {
   "cell_type": "code",
   "execution_count": 33,
   "id": "749cd4e2",
   "metadata": {},
   "outputs": [
    {
     "data": {
      "text/plain": [
       "Text(0, 0.5, 'Количество поездок')"
      ]
     },
     "execution_count": 33,
     "metadata": {},
     "output_type": "execute_result"
    },
    {
     "data": {
      "image/png": "[encoded data removed]",
      "text/plain": [
       "<Figure size 1200x600 with 1 Axes>"
      ]
     },
     "metadata": {},
     "output_type": "display_data"
    }
   ],
   "source": [
    "ax = data_users_free.plot(kind='hist',\n",
    "                          y='duration',\n",
    "                          histtype='step',\n",
    "                          bins=30,\n",
    "                          linewidth=5, \n",
    "                          alpha=0.7, \n",
    "                          label='free')\n",
    "data_users_ultra.plot(kind='hist',\n",
    "                      y='duration',\n",
    "                      histtype='step',\n",
    "                      bins=30,\n",
    "                      linewidth=5,\n",
    "                      alpha=0.7,\n",
    "                      label='ultra',\n",
    "                      ax=ax,\n",
    "                      grid=True,\n",
    "                      legend=True,\n",
    "                      title='Распределение поездок по их продолжительности для пользователей обеих категорий',\n",
    "                      figsize=(12, 6))\n",
    "plt.xlabel(\"Продолжительность, мин\")\n",
    "plt.ylabel(\"Количество поездок\")"
   ]
  },
  {
   "cell_type": "markdown",
   "id": "f0a86939",
   "metadata": {},
   "source": [
    "Продолжительность поездок пользователей обеих категорий распределена примерно одинаково и отличается лишь количеством наблюдений."
   ]
  },
  {
   "cell_type": "markdown",
   "id": "402d620f",
   "metadata": {},
   "source": [
    "## Расчет выручки"
   ]
  },
  {
   "cell_type": "markdown",
   "id": "81a921f2",
   "metadata": {},
   "source": [
    "Агрегируем данные о поездках по следующим параметрам: суммарное расстояние, количество поездок, суммарное время для каждого пользователя за каждый месяц, помесячная выручка от каждого пользователя."
   ]
  },
  {
   "cell_type": "code",
   "execution_count": 34,
   "id": "5ac18db8",
   "metadata": {},
   "outputs": [
    {
     "data": {
      "text/html": [
       "<div>\n",
       "<style scoped>\n",
       "    .dataframe tbody tr th:only-of-type {\n",
       "        vertical-align: middle;\n",
       "    }\n",
       "\n",
       "    .dataframe tbody tr th {\n",
       "        vertical-align: top;\n",
       "    }\n",
       "\n",
       "    .dataframe thead th {\n",
       "        text-align: right;\n",
       "    }\n",
       "</style>\n",
       "<table border=\"1\" class=\"dataframe\">\n",
       "  <thead>\n",
       "    <tr style=\"text-align: right;\">\n",
       "      <th></th>\n",
       "      <th>user_id</th>\n",
       "      <th>month</th>\n",
       "      <th>subscription_fee</th>\n",
       "      <th>minute_price</th>\n",
       "      <th>start_ride_price</th>\n",
       "      <th>rides_count</th>\n",
       "      <th>rides_total_time</th>\n",
       "      <th>total_distance</th>\n",
       "      <th>profit</th>\n",
       "    </tr>\n",
       "  </thead>\n",
       "  <tbody>\n",
       "    <tr>\n",
       "      <th>0</th>\n",
       "      <td>1</td>\n",
       "      <td>1</td>\n",
       "      <td>199</td>\n",
       "      <td>6</td>\n",
       "      <td>0</td>\n",
       "      <td>2</td>\n",
       "      <td>42.0</td>\n",
       "      <td>7027.511294</td>\n",
       "      <td>451.0</td>\n",
       "    </tr>\n",
       "    <tr>\n",
       "      <th>1</th>\n",
       "      <td>1</td>\n",
       "      <td>4</td>\n",
       "      <td>199</td>\n",
       "      <td>6</td>\n",
       "      <td>0</td>\n",
       "      <td>1</td>\n",
       "      <td>7.0</td>\n",
       "      <td>754.159807</td>\n",
       "      <td>241.0</td>\n",
       "    </tr>\n",
       "    <tr>\n",
       "      <th>2</th>\n",
       "      <td>1</td>\n",
       "      <td>8</td>\n",
       "      <td>199</td>\n",
       "      <td>6</td>\n",
       "      <td>0</td>\n",
       "      <td>2</td>\n",
       "      <td>46.0</td>\n",
       "      <td>6723.470560</td>\n",
       "      <td>475.0</td>\n",
       "    </tr>\n",
       "    <tr>\n",
       "      <th>3</th>\n",
       "      <td>1</td>\n",
       "      <td>10</td>\n",
       "      <td>199</td>\n",
       "      <td>6</td>\n",
       "      <td>0</td>\n",
       "      <td>2</td>\n",
       "      <td>32.0</td>\n",
       "      <td>5809.911100</td>\n",
       "      <td>391.0</td>\n",
       "    </tr>\n",
       "    <tr>\n",
       "      <th>4</th>\n",
       "      <td>1</td>\n",
       "      <td>11</td>\n",
       "      <td>199</td>\n",
       "      <td>6</td>\n",
       "      <td>0</td>\n",
       "      <td>3</td>\n",
       "      <td>56.0</td>\n",
       "      <td>7003.499363</td>\n",
       "      <td>535.0</td>\n",
       "    </tr>\n",
       "    <tr>\n",
       "      <th>5</th>\n",
       "      <td>1</td>\n",
       "      <td>12</td>\n",
       "      <td>199</td>\n",
       "      <td>6</td>\n",
       "      <td>0</td>\n",
       "      <td>2</td>\n",
       "      <td>28.0</td>\n",
       "      <td>6751.629942</td>\n",
       "      <td>367.0</td>\n",
       "    </tr>\n",
       "    <tr>\n",
       "      <th>6</th>\n",
       "      <td>2</td>\n",
       "      <td>3</td>\n",
       "      <td>199</td>\n",
       "      <td>6</td>\n",
       "      <td>0</td>\n",
       "      <td>3</td>\n",
       "      <td>63.0</td>\n",
       "      <td>10187.723006</td>\n",
       "      <td>577.0</td>\n",
       "    </tr>\n",
       "    <tr>\n",
       "      <th>7</th>\n",
       "      <td>2</td>\n",
       "      <td>4</td>\n",
       "      <td>199</td>\n",
       "      <td>6</td>\n",
       "      <td>0</td>\n",
       "      <td>2</td>\n",
       "      <td>40.0</td>\n",
       "      <td>6164.381824</td>\n",
       "      <td>439.0</td>\n",
       "    </tr>\n",
       "    <tr>\n",
       "      <th>8</th>\n",
       "      <td>2</td>\n",
       "      <td>6</td>\n",
       "      <td>199</td>\n",
       "      <td>6</td>\n",
       "      <td>0</td>\n",
       "      <td>1</td>\n",
       "      <td>14.0</td>\n",
       "      <td>3255.338202</td>\n",
       "      <td>283.0</td>\n",
       "    </tr>\n",
       "    <tr>\n",
       "      <th>9</th>\n",
       "      <td>2</td>\n",
       "      <td>7</td>\n",
       "      <td>199</td>\n",
       "      <td>6</td>\n",
       "      <td>0</td>\n",
       "      <td>2</td>\n",
       "      <td>48.0</td>\n",
       "      <td>6780.722964</td>\n",
       "      <td>487.0</td>\n",
       "    </tr>\n",
       "    <tr>\n",
       "      <th>10</th>\n",
       "      <td>2</td>\n",
       "      <td>8</td>\n",
       "      <td>199</td>\n",
       "      <td>6</td>\n",
       "      <td>0</td>\n",
       "      <td>1</td>\n",
       "      <td>7.0</td>\n",
       "      <td>923.007439</td>\n",
       "      <td>241.0</td>\n",
       "    </tr>\n",
       "    <tr>\n",
       "      <th>11</th>\n",
       "      <td>2</td>\n",
       "      <td>10</td>\n",
       "      <td>199</td>\n",
       "      <td>6</td>\n",
       "      <td>0</td>\n",
       "      <td>1</td>\n",
       "      <td>19.0</td>\n",
       "      <td>2824.636598</td>\n",
       "      <td>313.0</td>\n",
       "    </tr>\n",
       "    <tr>\n",
       "      <th>12</th>\n",
       "      <td>2</td>\n",
       "      <td>12</td>\n",
       "      <td>199</td>\n",
       "      <td>6</td>\n",
       "      <td>0</td>\n",
       "      <td>1</td>\n",
       "      <td>12.0</td>\n",
       "      <td>3828.248580</td>\n",
       "      <td>271.0</td>\n",
       "    </tr>\n",
       "    <tr>\n",
       "      <th>13</th>\n",
       "      <td>3</td>\n",
       "      <td>1</td>\n",
       "      <td>199</td>\n",
       "      <td>6</td>\n",
       "      <td>0</td>\n",
       "      <td>1</td>\n",
       "      <td>13.0</td>\n",
       "      <td>3061.777147</td>\n",
       "      <td>277.0</td>\n",
       "    </tr>\n",
       "    <tr>\n",
       "      <th>14</th>\n",
       "      <td>3</td>\n",
       "      <td>2</td>\n",
       "      <td>199</td>\n",
       "      <td>6</td>\n",
       "      <td>0</td>\n",
       "      <td>2</td>\n",
       "      <td>39.0</td>\n",
       "      <td>5421.152016</td>\n",
       "      <td>433.0</td>\n",
       "    </tr>\n",
       "  </tbody>\n",
       "</table>\n",
       "</div>"
      ],
      "text/plain": [
       "    user_id  month  subscription_fee  minute_price  start_ride_price  \\\n",
       "0         1      1               199             6                 0   \n",
       "1         1      4               199             6                 0   \n",
       "2         1      8               199             6                 0   \n",
       "3         1     10               199             6                 0   \n",
       "4         1     11               199             6                 0   \n",
       "5         1     12               199             6                 0   \n",
       "6         2      3               199             6                 0   \n",
       "7         2      4               199             6                 0   \n",
       "8         2      6               199             6                 0   \n",
       "9         2      7               199             6                 0   \n",
       "10        2      8               199             6                 0   \n",
       "11        2     10               199             6                 0   \n",
       "12        2     12               199             6                 0   \n",
       "13        3      1               199             6                 0   \n",
       "14        3      2               199             6                 0   \n",
       "\n",
       "    rides_count  rides_total_time  total_distance  profit  \n",
       "0             2              42.0     7027.511294   451.0  \n",
       "1             1               7.0      754.159807   241.0  \n",
       "2             2              46.0     6723.470560   475.0  \n",
       "3             2              32.0     5809.911100   391.0  \n",
       "4             3              56.0     7003.499363   535.0  \n",
       "5             2              28.0     6751.629942   367.0  \n",
       "6             3              63.0    10187.723006   577.0  \n",
       "7             2              40.0     6164.381824   439.0  \n",
       "8             1              14.0     3255.338202   283.0  \n",
       "9             2              48.0     6780.722964   487.0  \n",
       "10            1               7.0      923.007439   241.0  \n",
       "11            1              19.0     2824.636598   313.0  \n",
       "12            1              12.0     3828.248580   271.0  \n",
       "13            1              13.0     3061.777147   277.0  \n",
       "14            2              39.0     5421.152016   433.0  "
      ]
     },
     "execution_count": 34,
     "metadata": {},
     "output_type": "execute_result"
    }
   ],
   "source": [
    "data['duration'] = np.ceil(data['duration'])\n",
    "data_temp1 = data.groupby(['user_id', 'month', 'subscription_fee', 'minute_price', 'start_ride_price'])['duration'].agg(['count', 'sum'])\n",
    "data_temp2 = data.groupby(['user_id', 'month', 'subscription_fee', 'minute_price', 'start_ride_price'])['distance'].sum()\n",
    "# объединим в единый датафрейм\n",
    "data_aggr = pd.concat([data_temp1, data_temp2], axis=1)\n",
    "data_aggr = data_aggr.reset_index()\n",
    "data_aggr.columns = ['user_id', 'month', 'subscription_fee', 'minute_price', 'start_ride_price', \n",
    "                     'rides_count', 'rides_total_time', 'total_distance']\n",
    "# добавим столбец с помесячной выручкой каждого пользователя\n",
    "data_aggr['profit'] = (data_aggr['start_ride_price'] * data_aggr['rides_count'] \n",
    "                       + data_aggr['minute_price'] * data_aggr['rides_total_time'] + data_aggr['subscription_fee'])\n",
    "data_aggr.head(15)"
   ]
  },
  {
   "cell_type": "markdown",
   "id": "f2d58fc9",
   "metadata": {},
   "source": [
    "Данные агрегированы, можно приступать к проверке гипотез."
   ]
  },
  {
   "cell_type": "markdown",
   "id": "41545ac0",
   "metadata": {},
   "source": [
    "## Проверка гипотез"
   ]
  },
  {
   "cell_type": "markdown",
   "id": "40e26ac5",
   "metadata": {},
   "source": [
    "### Гипотеза 1"
   ]
  },
  {
   "cell_type": "markdown",
   "id": "a91732e8",
   "metadata": {},
   "source": [
    "Гипотеза — пользователи с подпиской тратят больше времени на поездки:\n",
    "* Нулевая гипотеза — пользователи с подпиской и без подписки тратят одинаковое времени на поездки;\n",
    "* Альтернативная гипотеза — пользователи с подпиской тратят больше времени на поездки."
   ]
  },
  {
   "cell_type": "code",
   "execution_count": 35,
   "id": "0ea5b2db",
   "metadata": {},
   "outputs": [
    {
     "name": "stdout",
     "output_type": "stream",
     "text": [
      "p-значение: 1.2804098316645613e-34\n",
      "Отвергаем нулевую гипотезу\n"
     ]
    }
   ],
   "source": [
    "alpha = 0.05  # уровень статистической значимости\n",
    "results = st.ttest_ind(data_users_ultra['duration'],\n",
    "                       data_users_free['duration'],\n",
    "                       alternative='greater')\n",
    "print('p-значение:', results.pvalue)\n",
    "\n",
    "if results.pvalue < alpha:\n",
    "    print('Отвергаем нулевую гипотезу')\n",
    "else:\n",
    "    print('Не получилось отвергнуть нулевую гипотезу')"
   ]
  },
  {
   "cell_type": "code",
   "execution_count": 36,
   "id": "d11c0d74",
   "metadata": {},
   "outputs": [
    {
     "data": {
      "text/plain": [
       "Text(0.5, 1.0, 'Средняя продолжительность поездок пользователей с подпиской и без')"
      ]
     },
     "execution_count": 36,
     "metadata": {},
     "output_type": "execute_result"
    },
    {
     "data": {
      "image/png": "[encoded data removed]",
      "text/plain": [
       "<Figure size 1200x600 with 1 Axes>"
      ]
     },
     "metadata": {},
     "output_type": "display_data"
    }
   ],
   "source": [
    "sns.set(rc={\"figure.figsize\":(12 , 6)})\n",
    "sns.barplot(x='month', y='duration', hue='subscription_fee', data=data, ci= None)\n",
    "plt.xlabel('Месяц')\n",
    "plt.ylabel('Средняя продолжительность поездки, мин')\n",
    "plt.title('Средняя продолжительность поездок пользователей с подпиской и без')"
   ]
  },
  {
   "cell_type": "markdown",
   "id": "336d3e9e",
   "metadata": {},
   "source": [
    "P-value меньше критического уровня статистической значимости — пользователи с подпиской действительно в среднем тратят больше времени на поездки. При сравнении ежемесячной активности это также подтверждается: средняя продолжительность поездок пользователей с подпиской в каждом месяце была стабильно выше по сравнению с пользователями без неё. Гипотеза подтверждена."
   ]
  },
  {
   "cell_type": "markdown",
   "id": "86c467a1",
   "metadata": {},
   "source": [
    "### Гипотеза 2"
   ]
  },
  {
   "cell_type": "markdown",
   "id": "f4fe7444",
   "metadata": {},
   "source": [
    "Гипотеза — среднее расстояние, которое проезжают пользователи с подпиской за одну поездку, не превышает 3130 метров:\n",
    "* Нулевая гипотеза — среднее расстояние, которое проезжают пользователи с подпиской за одну поездку, равно 3130 метров;\n",
    "* Альтернативная гипотеза — среднее расстояние, которое проезжают пользователи с подпиской за одну поездку, более 3130 метров."
   ]
  },
  {
   "cell_type": "code",
   "execution_count": 37,
   "id": "866098de",
   "metadata": {},
   "outputs": [
    {
     "name": "stdout",
     "output_type": "stream",
     "text": [
      "p-значение: 0.9195368847849785\n",
      "Не отвергаем нулевую гипотезу\n"
     ]
    }
   ],
   "source": [
    "max_value = 3130 # оптимальное расстояние с точки зрения износа самоката\n",
    "\n",
    "alpha = 0.05 # уровень статистической значимости\n",
    "\n",
    "results = st.ttest_1samp(\n",
    "    data_users_ultra['distance'], \n",
    "    max_value,\n",
    "    alternative='greater')\n",
    "\n",
    "print('p-значение:', results.pvalue)\n",
    "\n",
    "if results.pvalue < alpha:\n",
    "    print('Отвергаем нулевую гипотезу')\n",
    "else:\n",
    "    print('Не отвергаем нулевую гипотезу') "
   ]
  },
  {
   "cell_type": "markdown",
   "id": "d1bc290e",
   "metadata": {},
   "source": [
    "Нулевая гипотеза не отвергнута. Значит среднее расстояние, которое проезжают пользователи с подпиской за одну поездку, не превышает статистически значимо 3130 метров. Посмотрим чему оно равно."
   ]
  },
  {
   "cell_type": "code",
   "execution_count": 38,
   "id": "001dda22",
   "metadata": {},
   "outputs": [
    {
     "data": {
      "text/plain": [
       "3115.4453880370247"
      ]
     },
     "execution_count": 38,
     "metadata": {},
     "output_type": "execute_result"
    }
   ],
   "source": [
    "data_users_ultra['distance'].mean()"
   ]
  },
  {
   "cell_type": "markdown",
   "id": "3a847a2b",
   "metadata": {},
   "source": [
    "Гипотеза подтверждена."
   ]
  },
  {
   "cell_type": "markdown",
   "id": "e202d3a3",
   "metadata": {},
   "source": [
    "### Гипотеза 3"
   ]
  },
  {
   "cell_type": "markdown",
   "id": "806e7c40",
   "metadata": {},
   "source": [
    "Гипотеза — помесячная выручка от пользователей с подпиской по месяцам выше, чем выручка от пользователей без подписки:\n",
    "* Нулевая гипотеза — средние значения ежемесячных трат пользователей у двух групп равны;\n",
    "* Альтернативная гипотеза — среднее значение ежемесячных трат пользователей с подпиской больше, чем у пользователей без подписки."
   ]
  },
  {
   "cell_type": "code",
   "execution_count": 39,
   "id": "fda99383",
   "metadata": {},
   "outputs": [
    {
     "name": "stdout",
     "output_type": "stream",
     "text": [
      "p-значение: 1.8850394384715216e-31\n",
      "Отвергаем нулевую гипотезу\n"
     ]
    }
   ],
   "source": [
    "alpha = 0.05  # уровень статистической значимости\n",
    "results = st.ttest_ind(data_aggr.loc[data_aggr['subscription_fee'] == 199, 'profit'],\n",
    "                       data_aggr.loc[data_aggr['subscription_fee'] == 0, 'profit'],\n",
    "                       alternative='greater')\n",
    "print('p-значение:', results.pvalue)\n",
    "\n",
    "if results.pvalue < alpha:\n",
    "    print('Отвергаем нулевую гипотезу')\n",
    "else:\n",
    "    print('Не получилось отвергнуть нулевую гипотезу')"
   ]
  },
  {
   "cell_type": "code",
   "execution_count": 40,
   "id": "7fc55953",
   "metadata": {},
   "outputs": [
    {
     "data": {
      "text/plain": [
       "Text(0.5, 1.0, 'Средний ежемесячный платёж пользователей с подпиской и без')"
      ]
     },
     "execution_count": 40,
     "metadata": {},
     "output_type": "execute_result"
    },
    {
     "data": {
      "image/png": "[encoded data removed]",
      "text/plain": [
       "<Figure size 1200x600 with 1 Axes>"
      ]
     },
     "metadata": {},
     "output_type": "display_data"
    }
   ],
   "source": [
    "sns.set(rc={\"figure.figsize\":(12 , 6)})\n",
    "sns.barplot(x='month', y='profit', hue='subscription_fee', data=data_aggr, ci= None)\n",
    "plt.xlabel('Месяц')\n",
    "plt.ylabel('Средний ежемесячный платёж, руб.')\n",
    "plt.title('Средний ежемесячный платёж пользователей с подпиской и без')"
   ]
  },
  {
   "cell_type": "markdown",
   "id": "c5c24518",
   "metadata": {},
   "source": [
    "Средний ежемесячный платёж от пользователей с подпиской действительно был стабильно выше чем от пользователей без подписки. Гипотеза подтверждена."
   ]
  },
  {
   "cell_type": "markdown",
   "id": "788c4c72",
   "metadata": {},
   "source": [
    "### Вывод"
   ]
  },
  {
   "cell_type": "markdown",
   "id": "8ef3430f",
   "metadata": {},
   "source": [
    "Средняя продолжительность поездок и средние ежемесячные траты пользователей с подпиской статистически значимо выше чем у пользователей без нее. Также, в среднем пользователи с подпиской проезжают за одну поездку меньшее расстояние, чем то, что приводит к износу самоката. "
   ]
  },
  {
   "cell_type": "markdown",
   "id": "79e75f94",
   "metadata": {},
   "source": [
    "## Вывод"
   ]
  },
  {
   "cell_type": "markdown",
   "id": "02eb2afb",
   "metadata": {},
   "source": [
    "Исходные данные в хорошем состоянии: без пропусков, дубликаты обнаружены только в датасете `data_users`.\n",
    "\n",
    "В ходе исследовательского анализа были построены и проанализированы распределения данных по разным параметрам: возраст пользователей, частота встречаемости городов, продолжительность поездок и др. Аномалии не обнаружены.\n",
    "\n",
    "Для проверки статистических гипотез был создан датасет `data_aggr` с агрегированными данными о поездках пользователей по следующим параметрам: \n",
    "* суммарное расстояние;\n",
    "* количество поездок; \n",
    "* суммарное продолжительность поездок для каждого пользователя за каждый месяц; \n",
    "* помесячная выручка от каждого пользователя.\n",
    "\n",
    "В ходе статистического анализа проверены следующие гипотезы:\n",
    "* пользователи с подпиской тратят больше времени на поездки;\n",
    "* среднее расстояние, которое пользователи с подпиской проезжают за одну поездку, не превышает оптимального расстояния с точки зрения износа самоката;\n",
    "* помесячная выручка от пользователей с подпиской по месяцам выше, чем выручка от пользователей без подписки.\n",
    "\n",
    "Все три гипотезы были подтверждены.\n",
    "\n",
    "*Рекомендации*\n",
    "\n",
    "В своих решениях бизнесу стоит ориентироваться прежде всего на пользователей с платной подпиской: средний ежемесячный платёж и средняя длительность поездок у них выше, чем у пользователей без подписки, т.е. они имеет потенциал приносить нам бОльшую прибыль. Дополнительный плюс — их поездки в среднем не приводят к износу самокатов. "
   ]
  }
 ],
 "metadata": {
  "ExecuteTimeLog": [
   {
    "duration": 456,
    "start_time": "2023-09-14T08:03:47.246Z"
   },
   {
    "duration": 254,
    "start_time": "2023-09-14T08:03:54.727Z"
   },
   {
    "duration": 27,
    "start_time": "2023-09-14T08:03:57.504Z"
   },
   {
    "duration": 12,
    "start_time": "2023-09-14T08:04:05.512Z"
   },
   {
    "duration": 10,
    "start_time": "2023-09-14T08:04:11.462Z"
   },
   {
    "duration": 15,
    "start_time": "2023-09-14T08:04:19.102Z"
   },
   {
    "duration": 13,
    "start_time": "2023-09-14T08:04:27.894Z"
   },
   {
    "duration": 11,
    "start_time": "2023-09-14T08:04:34.851Z"
   },
   {
    "duration": 10,
    "start_time": "2023-09-14T08:04:53.333Z"
   },
   {
    "duration": 77,
    "start_time": "2023-09-14T08:06:18.610Z"
   },
   {
    "duration": 7,
    "start_time": "2023-09-14T08:06:19.078Z"
   },
   {
    "duration": 65,
    "start_time": "2023-09-14T08:06:27.827Z"
   },
   {
    "duration": 15,
    "start_time": "2023-09-14T08:06:28.520Z"
   },
   {
    "duration": 14,
    "start_time": "2023-09-14T08:06:29.334Z"
   },
   {
    "duration": 8,
    "start_time": "2023-09-14T08:06:30.671Z"
   },
   {
    "duration": 12,
    "start_time": "2023-09-14T08:06:49.587Z"
   },
   {
    "duration": 18,
    "start_time": "2023-09-14T08:07:08.317Z"
   },
   {
    "duration": 17,
    "start_time": "2023-09-14T08:07:20.212Z"
   },
   {
    "duration": 25,
    "start_time": "2023-09-14T08:08:55.091Z"
   },
   {
    "duration": 26,
    "start_time": "2023-09-14T08:09:32.550Z"
   },
   {
    "duration": 25,
    "start_time": "2023-09-14T08:09:33.844Z"
   },
   {
    "duration": 8,
    "start_time": "2023-09-14T08:12:42.139Z"
   },
   {
    "duration": 9,
    "start_time": "2023-09-14T08:12:52.131Z"
   },
   {
    "duration": 25,
    "start_time": "2023-09-14T08:13:04.790Z"
   },
   {
    "duration": 5,
    "start_time": "2023-09-14T08:15:11.448Z"
   },
   {
    "duration": 13,
    "start_time": "2023-09-14T08:15:16.881Z"
   },
   {
    "duration": 9,
    "start_time": "2023-09-14T08:17:01.729Z"
   },
   {
    "duration": 213,
    "start_time": "2023-09-14T08:17:01.890Z"
   },
   {
    "duration": 170,
    "start_time": "2023-09-14T08:17:02.161Z"
   },
   {
    "duration": 10,
    "start_time": "2023-09-14T08:17:20.309Z"
   },
   {
    "duration": 9,
    "start_time": "2023-09-14T08:17:35.510Z"
   },
   {
    "duration": 6,
    "start_time": "2023-09-14T08:17:45.325Z"
   },
   {
    "duration": 9,
    "start_time": "2023-09-14T08:18:48.406Z"
   },
   {
    "duration": 7,
    "start_time": "2023-09-14T08:18:50.950Z"
   },
   {
    "duration": 7,
    "start_time": "2023-09-14T08:19:12.769Z"
   },
   {
    "duration": 9,
    "start_time": "2023-09-14T08:19:13.157Z"
   },
   {
    "duration": 11,
    "start_time": "2023-09-14T08:19:18.975Z"
   },
   {
    "duration": 448,
    "start_time": "2023-09-15T03:33:11.921Z"
   },
   {
    "duration": 279,
    "start_time": "2023-09-15T03:33:12.372Z"
   },
   {
    "duration": 21,
    "start_time": "2023-09-15T03:33:12.654Z"
   },
   {
    "duration": 13,
    "start_time": "2023-09-15T03:33:12.677Z"
   },
   {
    "duration": 9,
    "start_time": "2023-09-15T03:33:12.693Z"
   },
   {
    "duration": 23,
    "start_time": "2023-09-15T03:33:12.704Z"
   },
   {
    "duration": 25,
    "start_time": "2023-09-15T03:33:12.729Z"
   },
   {
    "duration": 17,
    "start_time": "2023-09-15T03:33:12.756Z"
   },
   {
    "duration": 36,
    "start_time": "2023-09-15T03:33:12.775Z"
   },
   {
    "duration": 32,
    "start_time": "2023-09-15T03:33:12.813Z"
   },
   {
    "duration": 24,
    "start_time": "2023-09-15T03:33:12.847Z"
   },
   {
    "duration": 10,
    "start_time": "2023-09-15T03:33:12.874Z"
   },
   {
    "duration": 6,
    "start_time": "2023-09-15T03:33:12.912Z"
   },
   {
    "duration": 14,
    "start_time": "2023-09-15T03:33:12.920Z"
   },
   {
    "duration": 7,
    "start_time": "2023-09-15T03:33:12.936Z"
   },
   {
    "duration": 7,
    "start_time": "2023-09-15T03:33:12.945Z"
   },
   {
    "duration": 13,
    "start_time": "2023-09-15T03:33:12.954Z"
   },
   {
    "duration": 47,
    "start_time": "2023-09-15T03:33:12.968Z"
   },
   {
    "duration": 12,
    "start_time": "2023-09-15T03:33:13.018Z"
   },
   {
    "duration": 12,
    "start_time": "2023-09-15T03:33:13.033Z"
   },
   {
    "duration": 8,
    "start_time": "2023-09-15T03:33:13.047Z"
   },
   {
    "duration": 6,
    "start_time": "2023-09-15T03:33:13.058Z"
   },
   {
    "duration": 48,
    "start_time": "2023-09-15T03:33:13.067Z"
   },
   {
    "duration": 700,
    "start_time": "2023-09-15T03:33:56.475Z"
   },
   {
    "duration": 11,
    "start_time": "2023-09-15T03:37:51.522Z"
   },
   {
    "duration": 947,
    "start_time": "2023-09-15T03:38:07.961Z"
   },
   {
    "duration": 742,
    "start_time": "2023-09-15T03:38:29.134Z"
   },
   {
    "duration": 5,
    "start_time": "2023-09-15T03:38:44.344Z"
   },
   {
    "duration": 10,
    "start_time": "2023-09-15T03:39:03.923Z"
   },
   {
    "duration": 7,
    "start_time": "2023-09-15T03:39:34.611Z"
   },
   {
    "duration": 7,
    "start_time": "2023-09-15T03:39:42.330Z"
   },
   {
    "duration": 158,
    "start_time": "2023-09-15T03:41:29.548Z"
   },
   {
    "duration": 459,
    "start_time": "2023-09-15T06:32:32.977Z"
   },
   {
    "duration": 194,
    "start_time": "2023-09-15T06:32:33.438Z"
   },
   {
    "duration": 17,
    "start_time": "2023-09-15T06:32:33.634Z"
   },
   {
    "duration": 38,
    "start_time": "2023-09-15T06:32:33.653Z"
   },
   {
    "duration": 78,
    "start_time": "2023-09-15T06:32:33.693Z"
   },
   {
    "duration": 19,
    "start_time": "2023-09-15T06:32:33.773Z"
   },
   {
    "duration": 46,
    "start_time": "2023-09-15T06:32:33.793Z"
   },
   {
    "duration": 34,
    "start_time": "2023-09-15T06:32:33.841Z"
   },
   {
    "duration": 31,
    "start_time": "2023-09-15T06:32:33.877Z"
   },
   {
    "duration": 21,
    "start_time": "2023-09-15T06:32:33.910Z"
   },
   {
    "duration": 17,
    "start_time": "2023-09-15T06:32:33.932Z"
   },
   {
    "duration": 31,
    "start_time": "2023-09-15T06:32:33.951Z"
   },
   {
    "duration": 44,
    "start_time": "2023-09-15T06:32:33.984Z"
   },
   {
    "duration": 24,
    "start_time": "2023-09-15T06:32:34.031Z"
   },
   {
    "duration": 34,
    "start_time": "2023-09-15T06:32:34.056Z"
   },
   {
    "duration": 17,
    "start_time": "2023-09-15T06:32:34.092Z"
   },
   {
    "duration": 36,
    "start_time": "2023-09-15T06:32:34.111Z"
   },
   {
    "duration": 31,
    "start_time": "2023-09-15T06:32:34.149Z"
   },
   {
    "duration": 16,
    "start_time": "2023-09-15T06:32:34.182Z"
   },
   {
    "duration": 22,
    "start_time": "2023-09-15T06:32:34.200Z"
   },
   {
    "duration": 28,
    "start_time": "2023-09-15T06:32:34.225Z"
   },
   {
    "duration": 17,
    "start_time": "2023-09-15T06:32:34.255Z"
   },
   {
    "duration": 22,
    "start_time": "2023-09-15T06:32:34.274Z"
   },
   {
    "duration": 27,
    "start_time": "2023-09-15T06:32:34.298Z"
   },
   {
    "duration": 7,
    "start_time": "2023-09-15T06:32:34.328Z"
   },
   {
    "duration": 682,
    "start_time": "2023-09-15T06:32:34.337Z"
   },
   {
    "duration": 6,
    "start_time": "2023-09-15T06:32:35.021Z"
   },
   {
    "duration": 186,
    "start_time": "2023-09-15T06:35:38.474Z"
   },
   {
    "duration": 134,
    "start_time": "2023-09-15T06:35:49.447Z"
   },
   {
    "duration": 5,
    "start_time": "2023-09-15T06:36:17.779Z"
   },
   {
    "duration": 4,
    "start_time": "2023-09-15T06:36:26.091Z"
   },
   {
    "duration": 5,
    "start_time": "2023-09-15T06:36:38.778Z"
   },
   {
    "duration": 164,
    "start_time": "2023-09-15T06:37:40.639Z"
   },
   {
    "duration": 236,
    "start_time": "2023-09-15T06:37:52.356Z"
   },
   {
    "duration": 85,
    "start_time": "2023-09-15T06:38:59.695Z"
   },
   {
    "duration": 201,
    "start_time": "2023-09-15T06:39:55.400Z"
   },
   {
    "duration": 174,
    "start_time": "2023-09-15T06:40:26.939Z"
   },
   {
    "duration": 206,
    "start_time": "2023-09-15T06:40:28.678Z"
   },
   {
    "duration": 202,
    "start_time": "2023-09-15T06:40:30.966Z"
   },
   {
    "duration": 7,
    "start_time": "2023-09-15T06:44:38.021Z"
   },
   {
    "duration": 8,
    "start_time": "2023-09-15T06:45:41.115Z"
   },
   {
    "duration": 15,
    "start_time": "2023-09-15T06:45:42.367Z"
   },
   {
    "duration": 3,
    "start_time": "2023-09-15T06:46:57.563Z"
   },
   {
    "duration": 114,
    "start_time": "2023-09-15T06:46:57.568Z"
   },
   {
    "duration": 11,
    "start_time": "2023-09-15T06:46:57.684Z"
   },
   {
    "duration": 43,
    "start_time": "2023-09-15T06:46:57.696Z"
   },
   {
    "duration": 48,
    "start_time": "2023-09-15T06:46:57.741Z"
   },
   {
    "duration": 46,
    "start_time": "2023-09-15T06:46:57.791Z"
   },
   {
    "duration": 40,
    "start_time": "2023-09-15T06:46:57.839Z"
   },
   {
    "duration": 34,
    "start_time": "2023-09-15T06:46:57.881Z"
   },
   {
    "duration": 41,
    "start_time": "2023-09-15T06:46:57.917Z"
   },
   {
    "duration": 31,
    "start_time": "2023-09-15T06:46:57.959Z"
   },
   {
    "duration": 29,
    "start_time": "2023-09-15T06:46:57.992Z"
   },
   {
    "duration": 32,
    "start_time": "2023-09-15T06:46:58.023Z"
   },
   {
    "duration": 30,
    "start_time": "2023-09-15T06:46:58.057Z"
   },
   {
    "duration": 45,
    "start_time": "2023-09-15T06:46:58.090Z"
   },
   {
    "duration": 27,
    "start_time": "2023-09-15T06:46:58.137Z"
   },
   {
    "duration": 33,
    "start_time": "2023-09-15T06:46:58.166Z"
   },
   {
    "duration": 27,
    "start_time": "2023-09-15T06:46:58.200Z"
   },
   {
    "duration": 46,
    "start_time": "2023-09-15T06:46:58.228Z"
   },
   {
    "duration": 33,
    "start_time": "2023-09-15T06:46:58.275Z"
   },
   {
    "duration": 52,
    "start_time": "2023-09-15T06:46:58.310Z"
   },
   {
    "duration": 37,
    "start_time": "2023-09-15T06:46:58.364Z"
   },
   {
    "duration": 39,
    "start_time": "2023-09-15T06:46:58.403Z"
   },
   {
    "duration": 36,
    "start_time": "2023-09-15T06:46:58.444Z"
   },
   {
    "duration": 53,
    "start_time": "2023-09-15T06:46:58.482Z"
   },
   {
    "duration": 214,
    "start_time": "2023-09-15T06:46:58.537Z"
   },
   {
    "duration": 207,
    "start_time": "2023-09-15T06:46:58.754Z"
   },
   {
    "duration": 211,
    "start_time": "2023-09-15T06:46:58.963Z"
   },
   {
    "duration": 10,
    "start_time": "2023-09-15T06:46:59.176Z"
   },
   {
    "duration": 14,
    "start_time": "2023-09-15T06:47:00.565Z"
   },
   {
    "duration": 11,
    "start_time": "2023-09-15T06:48:35.494Z"
   },
   {
    "duration": 16,
    "start_time": "2023-09-15T06:48:36.723Z"
   },
   {
    "duration": 8,
    "start_time": "2023-09-15T06:51:30.714Z"
   },
   {
    "duration": 15,
    "start_time": "2023-09-15T06:51:31.250Z"
   },
   {
    "duration": 4,
    "start_time": "2023-09-15T06:51:51.294Z"
   },
   {
    "duration": 4,
    "start_time": "2023-09-15T06:52:08.080Z"
   },
   {
    "duration": 7,
    "start_time": "2023-09-15T06:52:38.078Z"
   },
   {
    "duration": 4,
    "start_time": "2023-09-15T06:52:39.516Z"
   },
   {
    "duration": 17,
    "start_time": "2023-09-15T06:52:52.366Z"
   },
   {
    "duration": 179,
    "start_time": "2023-09-15T06:55:39.844Z"
   },
   {
    "duration": 84,
    "start_time": "2023-09-15T06:56:25.310Z"
   },
   {
    "duration": 180,
    "start_time": "2023-09-15T06:56:31.353Z"
   },
   {
    "duration": 215,
    "start_time": "2023-09-15T06:56:49.627Z"
   },
   {
    "duration": 249,
    "start_time": "2023-09-15T06:56:56.791Z"
   },
   {
    "duration": 184,
    "start_time": "2023-09-15T06:57:53.476Z"
   },
   {
    "duration": 204,
    "start_time": "2023-09-15T06:57:53.682Z"
   },
   {
    "duration": 6,
    "start_time": "2023-09-15T06:58:31.677Z"
   },
   {
    "duration": 6,
    "start_time": "2023-09-15T06:59:04.665Z"
   },
   {
    "duration": 1388,
    "start_time": "2023-09-19T08:01:06.165Z"
   },
   {
    "duration": 196,
    "start_time": "2023-09-19T08:01:07.556Z"
   },
   {
    "duration": 19,
    "start_time": "2023-09-19T08:01:07.754Z"
   },
   {
    "duration": 19,
    "start_time": "2023-09-19T08:01:07.775Z"
   },
   {
    "duration": 58,
    "start_time": "2023-09-19T08:01:07.797Z"
   },
   {
    "duration": 29,
    "start_time": "2023-09-19T08:01:07.857Z"
   },
   {
    "duration": 25,
    "start_time": "2023-09-19T08:01:07.889Z"
   },
   {
    "duration": 32,
    "start_time": "2023-09-19T08:01:07.915Z"
   },
   {
    "duration": 36,
    "start_time": "2023-09-19T08:01:07.949Z"
   },
   {
    "duration": 102,
    "start_time": "2023-09-19T08:01:07.987Z"
   },
   {
    "duration": 44,
    "start_time": "2023-09-19T08:01:08.091Z"
   },
   {
    "duration": 18,
    "start_time": "2023-09-19T08:01:08.137Z"
   },
   {
    "duration": 46,
    "start_time": "2023-09-19T08:01:08.157Z"
   },
   {
    "duration": 37,
    "start_time": "2023-09-19T08:01:08.206Z"
   },
   {
    "duration": 32,
    "start_time": "2023-09-19T08:01:08.245Z"
   },
   {
    "duration": 23,
    "start_time": "2023-09-19T08:01:08.279Z"
   },
   {
    "duration": 25,
    "start_time": "2023-09-19T08:01:08.304Z"
   },
   {
    "duration": 8,
    "start_time": "2023-09-19T08:01:08.331Z"
   },
   {
    "duration": 27,
    "start_time": "2023-09-19T08:01:08.340Z"
   },
   {
    "duration": 9,
    "start_time": "2023-09-19T08:01:08.369Z"
   },
   {
    "duration": 18,
    "start_time": "2023-09-19T08:01:08.379Z"
   },
   {
    "duration": 389,
    "start_time": "2023-09-19T08:01:08.399Z"
   },
   {
    "duration": 15,
    "start_time": "2023-09-19T08:01:08.790Z"
   },
   {
    "duration": 183,
    "start_time": "2023-09-19T08:01:08.807Z"
   },
   {
    "duration": 248,
    "start_time": "2023-09-19T08:01:08.993Z"
   },
   {
    "duration": 290,
    "start_time": "2023-09-19T08:01:09.244Z"
   },
   {
    "duration": 270,
    "start_time": "2023-09-19T08:01:09.536Z"
   },
   {
    "duration": 18,
    "start_time": "2023-09-19T08:01:09.808Z"
   },
   {
    "duration": 15,
    "start_time": "2023-09-19T08:01:09.828Z"
   },
   {
    "duration": 280,
    "start_time": "2023-09-19T08:01:09.845Z"
   },
   {
    "duration": 12,
    "start_time": "2023-09-19T08:01:10.126Z"
   },
   {
    "duration": 127,
    "start_time": "2023-09-19T08:01:10.139Z"
   },
   {
    "duration": 34,
    "start_time": "2023-09-19T08:01:10.268Z"
   },
   {
    "duration": 24,
    "start_time": "2023-09-19T08:01:10.304Z"
   },
   {
    "duration": 29,
    "start_time": "2023-09-19T08:01:10.331Z"
   },
   {
    "duration": 12,
    "start_time": "2023-09-19T08:01:10.362Z"
   },
   {
    "duration": 28,
    "start_time": "2023-09-19T08:01:10.375Z"
   },
   {
    "duration": 10,
    "start_time": "2023-09-19T08:01:10.405Z"
   },
   {
    "duration": 234,
    "start_time": "2023-09-19T08:01:10.417Z"
   },
   {
    "duration": 217,
    "start_time": "2023-09-19T08:01:10.653Z"
   },
   {
    "duration": 116,
    "start_time": "2023-09-19T08:01:10.874Z"
   },
   {
    "duration": 13,
    "start_time": "2023-09-19T08:01:10.991Z"
   },
   {
    "duration": 304,
    "start_time": "2023-09-19T08:01:11.006Z"
   },
   {
    "duration": 6,
    "start_time": "2023-09-19T08:01:11.312Z"
   },
   {
    "duration": 36,
    "start_time": "2023-09-19T08:01:11.319Z"
   },
   {
    "duration": 12,
    "start_time": "2023-09-19T08:01:11.358Z"
   },
   {
    "duration": 295,
    "start_time": "2023-09-19T08:01:11.372Z"
   },
   {
    "duration": 313,
    "start_time": "2023-09-19T08:01:11.669Z"
   },
   {
    "duration": 783,
    "start_time": "2023-09-19T08:01:11.983Z"
   },
   {
    "duration": 275,
    "start_time": "2023-09-19T08:01:12.767Z"
   },
   {
    "duration": 5,
    "start_time": "2023-09-19T08:01:13.043Z"
   },
   {
    "duration": 316,
    "start_time": "2023-09-19T08:01:13.049Z"
   },
   {
    "duration": 15,
    "start_time": "2023-09-19T08:01:20.284Z"
   },
   {
    "duration": 1245,
    "start_time": "2023-09-19T08:06:24.591Z"
   },
   {
    "duration": 68,
    "start_time": "2023-09-19T08:06:25.838Z"
   },
   {
    "duration": 13,
    "start_time": "2023-09-19T08:06:25.908Z"
   },
   {
    "duration": 10,
    "start_time": "2023-09-19T08:06:25.923Z"
   },
   {
    "duration": 11,
    "start_time": "2023-09-19T08:06:25.935Z"
   },
   {
    "duration": 45,
    "start_time": "2023-09-19T08:06:25.947Z"
   },
   {
    "duration": 12,
    "start_time": "2023-09-19T08:06:25.994Z"
   },
   {
    "duration": 11,
    "start_time": "2023-09-19T08:06:26.007Z"
   },
   {
    "duration": 15,
    "start_time": "2023-09-19T08:06:26.019Z"
   },
   {
    "duration": 18,
    "start_time": "2023-09-19T08:06:26.036Z"
   },
   {
    "duration": 50,
    "start_time": "2023-09-19T08:06:26.056Z"
   },
   {
    "duration": 8,
    "start_time": "2023-09-19T08:06:26.107Z"
   },
   {
    "duration": 12,
    "start_time": "2023-09-19T08:06:26.117Z"
   },
   {
    "duration": 10,
    "start_time": "2023-09-19T08:06:26.133Z"
   },
   {
    "duration": 25,
    "start_time": "2023-09-19T08:06:26.145Z"
   },
   {
    "duration": 33,
    "start_time": "2023-09-19T08:06:26.171Z"
   },
   {
    "duration": 6,
    "start_time": "2023-09-19T08:06:26.205Z"
   },
   {
    "duration": 6,
    "start_time": "2023-09-19T08:06:26.213Z"
   },
   {
    "duration": 9,
    "start_time": "2023-09-19T08:06:26.221Z"
   },
   {
    "duration": 6,
    "start_time": "2023-09-19T08:06:26.232Z"
   },
   {
    "duration": 8,
    "start_time": "2023-09-19T08:06:26.240Z"
   },
   {
    "duration": 327,
    "start_time": "2023-09-19T08:06:26.250Z"
   },
   {
    "duration": 8,
    "start_time": "2023-09-19T08:06:26.579Z"
   },
   {
    "duration": 152,
    "start_time": "2023-09-19T08:06:26.601Z"
   },
   {
    "duration": 204,
    "start_time": "2023-09-19T08:06:26.755Z"
   },
   {
    "duration": 249,
    "start_time": "2023-09-19T08:06:26.961Z"
   },
   {
    "duration": 247,
    "start_time": "2023-09-19T08:06:27.212Z"
   },
   {
    "duration": 18,
    "start_time": "2023-09-19T08:06:27.462Z"
   },
   {
    "duration": 301,
    "start_time": "2023-09-19T08:06:27.481Z"
   },
   {
    "duration": 241,
    "start_time": "2023-09-19T08:06:27.784Z"
   },
   {
    "duration": 11,
    "start_time": "2023-09-19T08:06:28.026Z"
   },
   {
    "duration": 61,
    "start_time": "2023-09-19T08:06:28.038Z"
   },
   {
    "duration": 26,
    "start_time": "2023-09-19T08:06:28.101Z"
   },
   {
    "duration": 18,
    "start_time": "2023-09-19T08:06:28.129Z"
   },
   {
    "duration": 29,
    "start_time": "2023-09-19T08:06:28.148Z"
   },
   {
    "duration": 4,
    "start_time": "2023-09-19T08:06:28.179Z"
   },
   {
    "duration": 43,
    "start_time": "2023-09-19T08:06:28.184Z"
   },
   {
    "duration": 4,
    "start_time": "2023-09-19T08:06:28.229Z"
   },
   {
    "duration": 209,
    "start_time": "2023-09-19T08:06:28.235Z"
   },
   {
    "duration": 198,
    "start_time": "2023-09-19T08:06:28.446Z"
   },
   {
    "duration": 122,
    "start_time": "2023-09-19T08:06:28.650Z"
   },
   {
    "duration": 7,
    "start_time": "2023-09-19T08:06:28.773Z"
   },
   {
    "duration": 301,
    "start_time": "2023-09-19T08:06:28.782Z"
   },
   {
    "duration": 5,
    "start_time": "2023-09-19T08:06:29.085Z"
   },
   {
    "duration": 5,
    "start_time": "2023-09-19T08:06:29.101Z"
   },
   {
    "duration": 51,
    "start_time": "2023-09-19T08:06:29.108Z"
   },
   {
    "duration": 331,
    "start_time": "2023-09-19T08:06:29.161Z"
   },
   {
    "duration": 307,
    "start_time": "2023-09-19T08:06:29.500Z"
   },
   {
    "duration": 756,
    "start_time": "2023-09-19T08:06:29.809Z"
   },
   {
    "duration": 283,
    "start_time": "2023-09-19T08:06:30.567Z"
   },
   {
    "duration": 6,
    "start_time": "2023-09-19T08:06:30.851Z"
   },
   {
    "duration": 357,
    "start_time": "2023-09-19T08:06:30.858Z"
   },
   {
    "duration": 21,
    "start_time": "2023-09-19T08:07:25.295Z"
   },
   {
    "duration": 122,
    "start_time": "2023-09-19T08:09:00.625Z"
   },
   {
    "duration": 17,
    "start_time": "2023-09-19T08:09:10.961Z"
   },
   {
    "duration": 10,
    "start_time": "2023-09-19T08:10:21.033Z"
   },
   {
    "duration": 7,
    "start_time": "2023-09-19T08:10:24.091Z"
   },
   {
    "duration": 12,
    "start_time": "2023-09-19T08:10:57.881Z"
   },
   {
    "duration": 15,
    "start_time": "2023-09-19T08:11:06.405Z"
   },
   {
    "duration": 8,
    "start_time": "2023-09-19T08:12:10.290Z"
   },
   {
    "duration": 1195,
    "start_time": "2023-09-19T08:13:12.248Z"
   },
   {
    "duration": 70,
    "start_time": "2023-09-19T08:13:13.445Z"
   },
   {
    "duration": 17,
    "start_time": "2023-09-19T08:13:13.517Z"
   },
   {
    "duration": 11,
    "start_time": "2023-09-19T08:13:13.537Z"
   },
   {
    "duration": 30,
    "start_time": "2023-09-19T08:13:13.550Z"
   },
   {
    "duration": 17,
    "start_time": "2023-09-19T08:13:13.582Z"
   },
   {
    "duration": 27,
    "start_time": "2023-09-19T08:13:13.602Z"
   },
   {
    "duration": 44,
    "start_time": "2023-09-19T08:13:13.631Z"
   },
   {
    "duration": 36,
    "start_time": "2023-09-19T08:13:13.676Z"
   },
   {
    "duration": 24,
    "start_time": "2023-09-19T08:13:13.715Z"
   },
   {
    "duration": 18,
    "start_time": "2023-09-19T08:13:13.741Z"
   },
   {
    "duration": 13,
    "start_time": "2023-09-19T08:13:13.760Z"
   },
   {
    "duration": 26,
    "start_time": "2023-09-19T08:13:13.775Z"
   },
   {
    "duration": 14,
    "start_time": "2023-09-19T08:13:13.803Z"
   },
   {
    "duration": 21,
    "start_time": "2023-09-19T08:13:13.819Z"
   },
   {
    "duration": 38,
    "start_time": "2023-09-19T08:13:13.842Z"
   },
   {
    "duration": 12,
    "start_time": "2023-09-19T08:13:13.881Z"
   },
   {
    "duration": 46,
    "start_time": "2023-09-19T08:13:13.895Z"
   },
   {
    "duration": 22,
    "start_time": "2023-09-19T08:13:13.943Z"
   },
   {
    "duration": 15,
    "start_time": "2023-09-19T08:13:13.966Z"
   },
   {
    "duration": 29,
    "start_time": "2023-09-19T08:13:13.982Z"
   },
   {
    "duration": 317,
    "start_time": "2023-09-19T08:13:14.012Z"
   },
   {
    "duration": 6,
    "start_time": "2023-09-19T08:13:14.331Z"
   },
   {
    "duration": 170,
    "start_time": "2023-09-19T08:13:14.339Z"
   },
   {
    "duration": 253,
    "start_time": "2023-09-19T08:13:14.511Z"
   },
   {
    "duration": 262,
    "start_time": "2023-09-19T08:13:14.766Z"
   },
   {
    "duration": 248,
    "start_time": "2023-09-19T08:13:15.030Z"
   },
   {
    "duration": 29,
    "start_time": "2023-09-19T08:13:15.282Z"
   },
   {
    "duration": 4,
    "start_time": "2023-09-19T08:13:15.313Z"
   },
   {
    "duration": 261,
    "start_time": "2023-09-19T08:13:15.318Z"
   },
   {
    "duration": 20,
    "start_time": "2023-09-19T08:13:15.581Z"
   },
   {
    "duration": 10,
    "start_time": "2023-09-19T08:13:15.604Z"
   },
   {
    "duration": 60,
    "start_time": "2023-09-19T08:13:15.617Z"
   },
   {
    "duration": 34,
    "start_time": "2023-09-19T08:13:15.679Z"
   },
   {
    "duration": 47,
    "start_time": "2023-09-19T08:13:15.715Z"
   },
   {
    "duration": 11,
    "start_time": "2023-09-19T08:13:15.764Z"
   },
   {
    "duration": 41,
    "start_time": "2023-09-19T08:13:15.777Z"
   },
   {
    "duration": 11,
    "start_time": "2023-09-19T08:13:15.820Z"
   },
   {
    "duration": 220,
    "start_time": "2023-09-19T08:13:15.833Z"
   },
   {
    "duration": 182,
    "start_time": "2023-09-19T08:13:16.054Z"
   },
   {
    "duration": 124,
    "start_time": "2023-09-19T08:13:16.238Z"
   },
   {
    "duration": 5,
    "start_time": "2023-09-19T08:13:16.364Z"
   },
   {
    "duration": 323,
    "start_time": "2023-09-19T08:13:16.371Z"
   },
   {
    "duration": 8,
    "start_time": "2023-09-19T08:13:16.696Z"
   },
   {
    "duration": 44,
    "start_time": "2023-09-19T08:13:16.705Z"
   },
   {
    "duration": 63,
    "start_time": "2023-09-19T08:13:16.751Z"
   },
   {
    "duration": 274,
    "start_time": "2023-09-19T08:13:16.816Z"
   },
   {
    "duration": 304,
    "start_time": "2023-09-19T08:13:17.092Z"
   },
   {
    "duration": 747,
    "start_time": "2023-09-19T08:13:17.401Z"
   },
   {
    "duration": 282,
    "start_time": "2023-09-19T08:13:18.150Z"
   },
   {
    "duration": 5,
    "start_time": "2023-09-19T08:13:18.434Z"
   },
   {
    "duration": 295,
    "start_time": "2023-09-19T08:13:18.440Z"
   },
   {
    "duration": 48,
    "start_time": "2023-09-19T08:43:44.207Z"
   },
   {
    "duration": 1396,
    "start_time": "2023-09-19T08:43:55.930Z"
   },
   {
    "duration": 193,
    "start_time": "2023-09-19T08:43:57.328Z"
   },
   {
    "duration": 13,
    "start_time": "2023-09-19T08:43:57.523Z"
   },
   {
    "duration": 21,
    "start_time": "2023-09-19T08:43:57.538Z"
   },
   {
    "duration": 21,
    "start_time": "2023-09-19T08:43:57.561Z"
   },
   {
    "duration": 15,
    "start_time": "2023-09-19T08:43:57.584Z"
   },
   {
    "duration": 33,
    "start_time": "2023-09-19T08:43:57.601Z"
   },
   {
    "duration": 12,
    "start_time": "2023-09-19T08:43:57.636Z"
   },
   {
    "duration": 25,
    "start_time": "2023-09-19T08:43:57.650Z"
   },
   {
    "duration": 23,
    "start_time": "2023-09-19T08:43:57.677Z"
   },
   {
    "duration": 19,
    "start_time": "2023-09-19T08:43:57.702Z"
   },
   {
    "duration": 33,
    "start_time": "2023-09-19T08:43:57.723Z"
   },
   {
    "duration": 25,
    "start_time": "2023-09-19T08:43:57.758Z"
   },
   {
    "duration": 35,
    "start_time": "2023-09-19T08:43:57.785Z"
   },
   {
    "duration": 17,
    "start_time": "2023-09-19T08:43:57.822Z"
   },
   {
    "duration": 30,
    "start_time": "2023-09-19T08:43:57.841Z"
   },
   {
    "duration": 15,
    "start_time": "2023-09-19T08:43:57.873Z"
   },
   {
    "duration": 23,
    "start_time": "2023-09-19T08:43:57.890Z"
   },
   {
    "duration": 24,
    "start_time": "2023-09-19T08:43:57.915Z"
   },
   {
    "duration": 21,
    "start_time": "2023-09-19T08:43:57.940Z"
   },
   {
    "duration": 27,
    "start_time": "2023-09-19T08:43:57.962Z"
   },
   {
    "duration": 289,
    "start_time": "2023-09-19T08:43:57.990Z"
   },
   {
    "duration": 72,
    "start_time": "2023-09-19T08:44:05.741Z"
   },
   {
    "duration": 190,
    "start_time": "2023-09-19T08:45:09.730Z"
   },
   {
    "duration": 166,
    "start_time": "2023-09-19T08:45:17.078Z"
   },
   {
    "duration": 6,
    "start_time": "2023-09-19T08:46:22.678Z"
   },
   {
    "duration": 206,
    "start_time": "2023-09-19T08:49:54.825Z"
   },
   {
    "duration": 193,
    "start_time": "2023-09-19T08:51:54.639Z"
   },
   {
    "duration": 313,
    "start_time": "2023-09-19T08:53:09.498Z"
   },
   {
    "duration": 232,
    "start_time": "2023-09-19T08:53:37.832Z"
   },
   {
    "duration": 306,
    "start_time": "2023-09-19T08:54:07.242Z"
   },
   {
    "duration": 247,
    "start_time": "2023-09-19T08:54:20.349Z"
   },
   {
    "duration": 274,
    "start_time": "2023-09-19T08:54:51.171Z"
   },
   {
    "duration": 343,
    "start_time": "2023-09-19T08:54:55.151Z"
   },
   {
    "duration": 218,
    "start_time": "2023-09-19T08:54:59.470Z"
   },
   {
    "duration": 185,
    "start_time": "2023-09-19T09:00:05.749Z"
   },
   {
    "duration": 16,
    "start_time": "2023-09-19T09:00:07.195Z"
   },
   {
    "duration": 13,
    "start_time": "2023-09-19T09:02:09.652Z"
   },
   {
    "duration": 13,
    "start_time": "2023-09-19T09:02:10.061Z"
   },
   {
    "duration": 19,
    "start_time": "2023-09-19T09:02:10.370Z"
   },
   {
    "duration": 4,
    "start_time": "2023-09-19T09:02:10.549Z"
   },
   {
    "duration": 30,
    "start_time": "2023-09-19T09:02:14.978Z"
   },
   {
    "duration": 7,
    "start_time": "2023-09-19T09:02:15.386Z"
   },
   {
    "duration": 24,
    "start_time": "2023-09-19T09:02:15.597Z"
   },
   {
    "duration": 4,
    "start_time": "2023-09-19T09:02:15.848Z"
   },
   {
    "duration": 227,
    "start_time": "2023-09-19T09:02:20.516Z"
   },
   {
    "duration": 225,
    "start_time": "2023-09-19T09:02:51.033Z"
   },
   {
    "duration": 180,
    "start_time": "2023-09-19T09:03:25.326Z"
   },
   {
    "duration": 719,
    "start_time": "2023-09-19T09:03:46.876Z"
   },
   {
    "duration": 337,
    "start_time": "2023-09-19T09:03:48.773Z"
   },
   {
    "duration": 6,
    "start_time": "2023-09-19T09:03:52.255Z"
   },
   {
    "duration": 235,
    "start_time": "2023-09-19T09:03:54.308Z"
   },
   {
    "duration": 61,
    "start_time": "2023-09-19T10:44:02.322Z"
   },
   {
    "duration": 1618,
    "start_time": "2023-09-19T10:44:23.802Z"
   },
   {
    "duration": 191,
    "start_time": "2023-09-19T10:44:25.423Z"
   },
   {
    "duration": 15,
    "start_time": "2023-09-19T10:44:25.616Z"
   },
   {
    "duration": 21,
    "start_time": "2023-09-19T10:44:25.634Z"
   },
   {
    "duration": 20,
    "start_time": "2023-09-19T10:44:25.658Z"
   },
   {
    "duration": 20,
    "start_time": "2023-09-19T10:44:25.680Z"
   },
   {
    "duration": 11,
    "start_time": "2023-09-19T10:44:25.702Z"
   },
   {
    "duration": 10,
    "start_time": "2023-09-19T10:44:25.715Z"
   },
   {
    "duration": 27,
    "start_time": "2023-09-19T10:44:25.727Z"
   },
   {
    "duration": 23,
    "start_time": "2023-09-19T10:44:25.755Z"
   },
   {
    "duration": 17,
    "start_time": "2023-09-19T10:44:25.779Z"
   },
   {
    "duration": 7,
    "start_time": "2023-09-19T10:44:25.798Z"
   },
   {
    "duration": 6,
    "start_time": "2023-09-19T10:44:25.806Z"
   },
   {
    "duration": 33,
    "start_time": "2023-09-19T10:44:25.815Z"
   },
   {
    "duration": 11,
    "start_time": "2023-09-19T10:44:25.850Z"
   },
   {
    "duration": 10,
    "start_time": "2023-09-19T10:44:25.863Z"
   },
   {
    "duration": 5,
    "start_time": "2023-09-19T10:44:25.874Z"
   },
   {
    "duration": 8,
    "start_time": "2023-09-19T10:44:25.881Z"
   },
   {
    "duration": 9,
    "start_time": "2023-09-19T10:44:25.891Z"
   },
   {
    "duration": 6,
    "start_time": "2023-09-19T10:44:25.902Z"
   },
   {
    "duration": 39,
    "start_time": "2023-09-19T10:44:25.909Z"
   },
   {
    "duration": 191,
    "start_time": "2023-09-19T10:44:25.950Z"
   },
   {
    "duration": 7,
    "start_time": "2023-09-19T10:44:26.146Z"
   },
   {
    "duration": 23,
    "start_time": "2023-09-19T10:44:26.154Z"
   },
   {
    "duration": 167,
    "start_time": "2023-09-19T10:44:26.179Z"
   },
   {
    "duration": 223,
    "start_time": "2023-09-19T10:44:26.348Z"
   },
   {
    "duration": 258,
    "start_time": "2023-09-19T10:44:26.572Z"
   },
   {
    "duration": 267,
    "start_time": "2023-09-19T10:44:26.831Z"
   },
   {
    "duration": 2,
    "start_time": "2023-09-19T10:44:27.100Z"
   },
   {
    "duration": 26,
    "start_time": "2023-09-19T10:44:27.104Z"
   },
   {
    "duration": 16,
    "start_time": "2023-09-19T10:44:27.132Z"
   },
   {
    "duration": 28,
    "start_time": "2023-09-19T10:44:27.149Z"
   },
   {
    "duration": 9,
    "start_time": "2023-09-19T10:44:27.179Z"
   },
   {
    "duration": 33,
    "start_time": "2023-09-19T10:44:27.189Z"
   },
   {
    "duration": 4,
    "start_time": "2023-09-19T10:44:27.223Z"
   },
   {
    "duration": 27,
    "start_time": "2023-09-19T10:44:27.229Z"
   },
   {
    "duration": 4,
    "start_time": "2023-09-19T10:44:27.257Z"
   },
   {
    "duration": 249,
    "start_time": "2023-09-19T10:44:27.263Z"
   },
   {
    "duration": 227,
    "start_time": "2023-09-19T10:44:27.514Z"
   },
   {
    "duration": 39,
    "start_time": "2023-09-19T10:44:51.284Z"
   },
   {
    "duration": 206,
    "start_time": "2023-09-19T10:48:18.748Z"
   },
   {
    "duration": 218,
    "start_time": "2023-09-19T10:48:20.488Z"
   },
   {
    "duration": 7,
    "start_time": "2023-09-19T10:49:08.647Z"
   },
   {
    "duration": 307,
    "start_time": "2023-09-19T10:49:10.707Z"
   },
   {
    "duration": 382,
    "start_time": "2023-09-19T10:52:59.013Z"
   },
   {
    "duration": 319,
    "start_time": "2023-09-19T10:53:31.083Z"
   },
   {
    "duration": 295,
    "start_time": "2023-09-19T10:53:44.160Z"
   },
   {
    "duration": 290,
    "start_time": "2023-09-19T10:53:58.509Z"
   },
   {
    "duration": 288,
    "start_time": "2023-09-19T10:57:27.006Z"
   },
   {
    "duration": 337,
    "start_time": "2023-09-19T10:57:35.953Z"
   },
   {
    "duration": 359,
    "start_time": "2023-09-19T10:57:57.220Z"
   },
   {
    "duration": 6,
    "start_time": "2023-09-19T10:58:56.059Z"
   },
   {
    "duration": 5,
    "start_time": "2023-09-19T11:00:48.069Z"
   },
   {
    "duration": 8,
    "start_time": "2023-09-19T11:08:33.545Z"
   },
   {
    "duration": 282,
    "start_time": "2023-09-19T11:08:34.242Z"
   },
   {
    "duration": 300,
    "start_time": "2023-09-19T11:09:29.314Z"
   },
   {
    "duration": 294,
    "start_time": "2023-09-19T11:09:53.184Z"
   },
   {
    "duration": 327,
    "start_time": "2023-09-19T11:10:44.598Z"
   },
   {
    "duration": 204,
    "start_time": "2023-09-19T11:19:36.554Z"
   },
   {
    "duration": 332,
    "start_time": "2023-09-19T11:20:06.261Z"
   },
   {
    "duration": 238,
    "start_time": "2023-09-19T11:20:20.291Z"
   },
   {
    "duration": 284,
    "start_time": "2023-09-19T11:24:45.108Z"
   },
   {
    "duration": 286,
    "start_time": "2023-09-19T11:25:09.581Z"
   },
   {
    "duration": 240,
    "start_time": "2023-09-19T11:25:33.207Z"
   },
   {
    "duration": 244,
    "start_time": "2023-09-19T11:26:18.832Z"
   },
   {
    "duration": 266,
    "start_time": "2023-09-19T11:28:01.995Z"
   },
   {
    "duration": 212,
    "start_time": "2023-09-19T11:28:20.762Z"
   },
   {
    "duration": 1397,
    "start_time": "2023-09-20T04:13:25.816Z"
   },
   {
    "duration": 205,
    "start_time": "2023-09-20T04:13:27.215Z"
   },
   {
    "duration": 16,
    "start_time": "2023-09-20T04:13:27.422Z"
   },
   {
    "duration": 27,
    "start_time": "2023-09-20T04:13:27.440Z"
   },
   {
    "duration": 15,
    "start_time": "2023-09-20T04:13:27.469Z"
   },
   {
    "duration": 17,
    "start_time": "2023-09-20T04:13:27.485Z"
   },
   {
    "duration": 17,
    "start_time": "2023-09-20T04:13:27.504Z"
   },
   {
    "duration": 30,
    "start_time": "2023-09-20T04:13:27.523Z"
   },
   {
    "duration": 39,
    "start_time": "2023-09-20T04:13:27.555Z"
   },
   {
    "duration": 23,
    "start_time": "2023-09-20T04:13:27.596Z"
   },
   {
    "duration": 21,
    "start_time": "2023-09-20T04:13:27.621Z"
   },
   {
    "duration": 19,
    "start_time": "2023-09-20T04:13:27.643Z"
   },
   {
    "duration": 11,
    "start_time": "2023-09-20T04:13:27.665Z"
   },
   {
    "duration": 37,
    "start_time": "2023-09-20T04:13:27.679Z"
   },
   {
    "duration": 14,
    "start_time": "2023-09-20T04:13:27.718Z"
   },
   {
    "duration": 11,
    "start_time": "2023-09-20T04:13:27.734Z"
   },
   {
    "duration": 15,
    "start_time": "2023-09-20T04:13:27.747Z"
   },
   {
    "duration": 7,
    "start_time": "2023-09-20T04:13:27.763Z"
   },
   {
    "duration": 15,
    "start_time": "2023-09-20T04:13:27.771Z"
   },
   {
    "duration": 11,
    "start_time": "2023-09-20T04:13:27.788Z"
   },
   {
    "duration": 13,
    "start_time": "2023-09-20T04:13:27.801Z"
   },
   {
    "duration": 161,
    "start_time": "2023-09-20T04:13:27.815Z"
   },
   {
    "duration": 6,
    "start_time": "2023-09-20T04:13:27.978Z"
   },
   {
    "duration": 225,
    "start_time": "2023-09-20T04:13:27.985Z"
   },
   {
    "duration": 6,
    "start_time": "2023-09-20T04:13:28.212Z"
   },
   {
    "duration": 183,
    "start_time": "2023-09-20T04:13:28.219Z"
   },
   {
    "duration": 250,
    "start_time": "2023-09-20T04:13:28.404Z"
   },
   {
    "duration": 274,
    "start_time": "2023-09-20T04:13:28.656Z"
   },
   {
    "duration": 276,
    "start_time": "2023-09-20T04:13:28.932Z"
   },
   {
    "duration": 3,
    "start_time": "2023-09-20T04:13:29.209Z"
   },
   {
    "duration": 34,
    "start_time": "2023-09-20T04:13:29.213Z"
   },
   {
    "duration": 35,
    "start_time": "2023-09-20T04:13:29.249Z"
   },
   {
    "duration": 30,
    "start_time": "2023-09-20T04:13:29.286Z"
   },
   {
    "duration": 18,
    "start_time": "2023-09-20T04:13:29.318Z"
   },
   {
    "duration": 49,
    "start_time": "2023-09-20T04:13:29.338Z"
   },
   {
    "duration": 16,
    "start_time": "2023-09-20T04:13:29.389Z"
   },
   {
    "duration": 28,
    "start_time": "2023-09-20T04:13:29.407Z"
   },
   {
    "duration": 4,
    "start_time": "2023-09-20T04:13:29.436Z"
   },
   {
    "duration": 244,
    "start_time": "2023-09-20T04:13:29.442Z"
   },
   {
    "duration": 216,
    "start_time": "2023-09-20T04:13:29.687Z"
   },
   {
    "duration": 115,
    "start_time": "2023-09-20T04:13:29.907Z"
   },
   {
    "duration": 5,
    "start_time": "2023-09-20T04:13:30.024Z"
   },
   {
    "duration": 343,
    "start_time": "2023-09-20T04:13:30.031Z"
   },
   {
    "duration": 6,
    "start_time": "2023-09-20T04:13:30.375Z"
   },
   {
    "duration": 107,
    "start_time": "2023-09-20T04:13:30.382Z"
   },
   {
    "duration": 53,
    "start_time": "2023-09-20T04:13:30.491Z"
   },
   {
    "duration": 350,
    "start_time": "2023-09-20T04:13:30.547Z"
   },
   {
    "duration": 318,
    "start_time": "2023-09-20T04:13:30.899Z"
   },
   {
    "duration": 776,
    "start_time": "2023-09-20T04:13:31.218Z"
   },
   {
    "duration": 276,
    "start_time": "2023-09-20T04:13:31.995Z"
   },
   {
    "duration": 5,
    "start_time": "2023-09-20T04:13:32.273Z"
   },
   {
    "duration": 390,
    "start_time": "2023-09-20T04:13:32.280Z"
   },
   {
    "duration": 229,
    "start_time": "2023-09-20T04:18:02.705Z"
   },
   {
    "duration": 305,
    "start_time": "2023-09-20T04:18:39.254Z"
   },
   {
    "duration": 1274,
    "start_time": "2023-09-20T04:27:51.447Z"
   },
   {
    "duration": 71,
    "start_time": "2023-09-20T04:27:52.723Z"
   },
   {
    "duration": 14,
    "start_time": "2023-09-20T04:27:52.795Z"
   },
   {
    "duration": 39,
    "start_time": "2023-09-20T04:27:52.811Z"
   },
   {
    "duration": 60,
    "start_time": "2023-09-20T04:27:52.852Z"
   },
   {
    "duration": 30,
    "start_time": "2023-09-20T04:27:52.913Z"
   },
   {
    "duration": 25,
    "start_time": "2023-09-20T04:27:52.945Z"
   },
   {
    "duration": 35,
    "start_time": "2023-09-20T04:27:52.972Z"
   },
   {
    "duration": 33,
    "start_time": "2023-09-20T04:27:53.009Z"
   },
   {
    "duration": 35,
    "start_time": "2023-09-20T04:27:53.043Z"
   },
   {
    "duration": 16,
    "start_time": "2023-09-20T04:27:53.080Z"
   },
   {
    "duration": 52,
    "start_time": "2023-09-20T04:27:53.097Z"
   },
   {
    "duration": 47,
    "start_time": "2023-09-20T04:27:53.151Z"
   },
   {
    "duration": 37,
    "start_time": "2023-09-20T04:27:53.201Z"
   },
   {
    "duration": 40,
    "start_time": "2023-09-20T04:27:53.239Z"
   },
   {
    "duration": 21,
    "start_time": "2023-09-20T04:27:53.281Z"
   },
   {
    "duration": 34,
    "start_time": "2023-09-20T04:27:53.303Z"
   },
   {
    "duration": 32,
    "start_time": "2023-09-20T04:27:53.339Z"
   },
   {
    "duration": 56,
    "start_time": "2023-09-20T04:27:53.372Z"
   },
   {
    "duration": 5,
    "start_time": "2023-09-20T04:27:53.430Z"
   },
   {
    "duration": 17,
    "start_time": "2023-09-20T04:27:53.437Z"
   },
   {
    "duration": 170,
    "start_time": "2023-09-20T04:27:53.455Z"
   },
   {
    "duration": 5,
    "start_time": "2023-09-20T04:27:53.627Z"
   },
   {
    "duration": 28,
    "start_time": "2023-09-20T04:27:53.634Z"
   },
   {
    "duration": 148,
    "start_time": "2023-09-20T04:27:53.663Z"
   },
   {
    "duration": 215,
    "start_time": "2023-09-20T04:27:53.813Z"
   },
   {
    "duration": 251,
    "start_time": "2023-09-20T04:27:54.030Z"
   },
   {
    "duration": 241,
    "start_time": "2023-09-20T04:27:54.283Z"
   },
   {
    "duration": 5,
    "start_time": "2023-09-20T04:27:54.527Z"
   },
   {
    "duration": 16,
    "start_time": "2023-09-20T04:27:54.534Z"
   },
   {
    "duration": 16,
    "start_time": "2023-09-20T04:27:54.552Z"
   },
   {
    "duration": 39,
    "start_time": "2023-09-20T04:27:54.570Z"
   },
   {
    "duration": 100,
    "start_time": "2023-09-20T04:27:54.612Z"
   },
   {
    "duration": 34,
    "start_time": "2023-09-20T04:27:54.714Z"
   },
   {
    "duration": 4,
    "start_time": "2023-09-20T04:27:54.751Z"
   },
   {
    "duration": 36,
    "start_time": "2023-09-20T04:27:54.758Z"
   },
   {
    "duration": 6,
    "start_time": "2023-09-20T04:27:54.796Z"
   },
   {
    "duration": 213,
    "start_time": "2023-09-20T04:27:54.803Z"
   },
   {
    "duration": 192,
    "start_time": "2023-09-20T04:27:55.018Z"
   },
   {
    "duration": 36,
    "start_time": "2023-09-20T04:27:55.212Z"
   },
   {
    "duration": 104,
    "start_time": "2023-09-20T04:27:55.252Z"
   },
   {
    "duration": 295,
    "start_time": "2023-09-20T04:27:55.357Z"
   },
   {
    "duration": 5,
    "start_time": "2023-09-20T04:27:55.654Z"
   },
   {
    "duration": 8,
    "start_time": "2023-09-20T04:27:55.660Z"
   },
   {
    "duration": 11,
    "start_time": "2023-09-20T04:27:55.670Z"
   },
   {
    "duration": 371,
    "start_time": "2023-09-20T04:27:55.683Z"
   },
   {
    "duration": 331,
    "start_time": "2023-09-20T04:27:56.055Z"
   },
   {
    "duration": 755,
    "start_time": "2023-09-20T04:27:56.387Z"
   },
   {
    "duration": 263,
    "start_time": "2023-09-20T04:27:57.144Z"
   },
   {
    "duration": 5,
    "start_time": "2023-09-20T04:27:57.408Z"
   },
   {
    "duration": 269,
    "start_time": "2023-09-20T04:27:57.414Z"
   },
   {
    "duration": 1260,
    "start_time": "2023-09-20T04:32:28.352Z"
   },
   {
    "duration": 70,
    "start_time": "2023-09-20T04:32:29.614Z"
   },
   {
    "duration": 14,
    "start_time": "2023-09-20T04:32:29.686Z"
   },
   {
    "duration": 87,
    "start_time": "2023-09-20T04:32:29.702Z"
   },
   {
    "duration": 19,
    "start_time": "2023-09-20T04:32:29.791Z"
   },
   {
    "duration": 16,
    "start_time": "2023-09-20T04:32:29.812Z"
   },
   {
    "duration": 29,
    "start_time": "2023-09-20T04:32:29.830Z"
   },
   {
    "duration": 26,
    "start_time": "2023-09-20T04:32:29.861Z"
   },
   {
    "duration": 24,
    "start_time": "2023-09-20T04:32:29.888Z"
   },
   {
    "duration": 19,
    "start_time": "2023-09-20T04:32:29.913Z"
   },
   {
    "duration": 15,
    "start_time": "2023-09-20T04:32:29.934Z"
   },
   {
    "duration": 27,
    "start_time": "2023-09-20T04:32:29.951Z"
   },
   {
    "duration": 23,
    "start_time": "2023-09-20T04:32:29.980Z"
   },
   {
    "duration": 89,
    "start_time": "2023-09-20T04:32:30.006Z"
   },
   {
    "duration": 53,
    "start_time": "2023-09-20T04:32:30.096Z"
   },
   {
    "duration": 75,
    "start_time": "2023-09-20T04:32:30.151Z"
   },
   {
    "duration": 33,
    "start_time": "2023-09-20T04:32:30.228Z"
   },
   {
    "duration": 41,
    "start_time": "2023-09-20T04:32:30.263Z"
   },
   {
    "duration": 47,
    "start_time": "2023-09-20T04:32:30.306Z"
   },
   {
    "duration": 88,
    "start_time": "2023-09-20T04:32:30.355Z"
   },
   {
    "duration": 115,
    "start_time": "2023-09-20T04:32:30.445Z"
   },
   {
    "duration": 236,
    "start_time": "2023-09-20T04:32:30.562Z"
   },
   {
    "duration": 6,
    "start_time": "2023-09-20T04:32:30.801Z"
   },
   {
    "duration": 200,
    "start_time": "2023-09-20T04:32:30.808Z"
   },
   {
    "duration": 232,
    "start_time": "2023-09-20T04:32:31.010Z"
   },
   {
    "duration": 222,
    "start_time": "2023-09-20T04:32:31.245Z"
   },
   {
    "duration": 254,
    "start_time": "2023-09-20T04:32:31.469Z"
   },
   {
    "duration": 248,
    "start_time": "2023-09-20T04:32:31.725Z"
   },
   {
    "duration": 2,
    "start_time": "2023-09-20T04:32:31.975Z"
   },
   {
    "duration": 285,
    "start_time": "2023-09-20T04:32:31.978Z"
   },
   {
    "duration": 11,
    "start_time": "2023-09-20T04:32:32.265Z"
   },
   {
    "duration": 26,
    "start_time": "2023-09-20T04:32:32.278Z"
   },
   {
    "duration": 12,
    "start_time": "2023-09-20T04:32:32.306Z"
   },
   {
    "duration": 29,
    "start_time": "2023-09-20T04:32:32.320Z"
   },
   {
    "duration": 4,
    "start_time": "2023-09-20T04:32:32.351Z"
   },
   {
    "duration": 33,
    "start_time": "2023-09-20T04:32:32.357Z"
   },
   {
    "duration": 11,
    "start_time": "2023-09-20T04:32:32.391Z"
   },
   {
    "duration": 233,
    "start_time": "2023-09-20T04:32:32.403Z"
   },
   {
    "duration": 188,
    "start_time": "2023-09-20T04:32:32.637Z"
   },
   {
    "duration": 38,
    "start_time": "2023-09-20T04:32:32.826Z"
   },
   {
    "duration": 5,
    "start_time": "2023-09-20T04:32:32.868Z"
   },
   {
    "duration": 329,
    "start_time": "2023-09-20T04:32:32.875Z"
   },
   {
    "duration": 5,
    "start_time": "2023-09-20T04:32:33.206Z"
   },
   {
    "duration": 43,
    "start_time": "2023-09-20T04:32:33.213Z"
   },
   {
    "duration": 14,
    "start_time": "2023-09-20T04:32:33.258Z"
   },
   {
    "duration": 385,
    "start_time": "2023-09-20T04:32:33.274Z"
   },
   {
    "duration": 317,
    "start_time": "2023-09-20T04:32:33.661Z"
   },
   {
    "duration": 875,
    "start_time": "2023-09-20T04:32:33.980Z"
   },
   {
    "duration": 282,
    "start_time": "2023-09-20T04:32:34.857Z"
   },
   {
    "duration": 5,
    "start_time": "2023-09-20T04:32:35.141Z"
   },
   {
    "duration": 291,
    "start_time": "2023-09-20T04:32:35.147Z"
   },
   {
    "duration": 1205,
    "start_time": "2023-09-20T04:39:21.645Z"
   },
   {
    "duration": 71,
    "start_time": "2023-09-20T04:39:22.853Z"
   },
   {
    "duration": 61,
    "start_time": "2023-09-20T04:39:22.926Z"
   },
   {
    "duration": 185,
    "start_time": "2023-09-20T04:39:22.989Z"
   },
   {
    "duration": 236,
    "start_time": "2023-09-20T04:39:23.176Z"
   },
   {
    "duration": 17,
    "start_time": "2023-09-20T04:39:23.413Z"
   },
   {
    "duration": 12,
    "start_time": "2023-09-20T04:39:23.431Z"
   },
   {
    "duration": 10,
    "start_time": "2023-09-20T04:39:23.444Z"
   },
   {
    "duration": 22,
    "start_time": "2023-09-20T04:39:23.455Z"
   },
   {
    "duration": 31,
    "start_time": "2023-09-20T04:39:23.479Z"
   },
   {
    "duration": 18,
    "start_time": "2023-09-20T04:39:23.512Z"
   },
   {
    "duration": 8,
    "start_time": "2023-09-20T04:39:23.532Z"
   },
   {
    "duration": 8,
    "start_time": "2023-09-20T04:39:23.542Z"
   },
   {
    "duration": 39,
    "start_time": "2023-09-20T04:39:23.554Z"
   },
   {
    "duration": 11,
    "start_time": "2023-09-20T04:39:23.601Z"
   },
   {
    "duration": 12,
    "start_time": "2023-09-20T04:39:23.615Z"
   },
   {
    "duration": 6,
    "start_time": "2023-09-20T04:39:23.629Z"
   },
   {
    "duration": 11,
    "start_time": "2023-09-20T04:39:23.637Z"
   },
   {
    "duration": 10,
    "start_time": "2023-09-20T04:39:23.650Z"
   },
   {
    "duration": 13,
    "start_time": "2023-09-20T04:39:23.662Z"
   },
   {
    "duration": 6,
    "start_time": "2023-09-20T04:39:23.701Z"
   },
   {
    "duration": 191,
    "start_time": "2023-09-20T04:39:23.709Z"
   },
   {
    "duration": 6,
    "start_time": "2023-09-20T04:39:23.902Z"
   },
   {
    "duration": 16,
    "start_time": "2023-09-20T04:39:23.910Z"
   },
   {
    "duration": 160,
    "start_time": "2023-09-20T04:39:23.928Z"
   },
   {
    "duration": 236,
    "start_time": "2023-09-20T04:39:24.090Z"
   },
   {
    "duration": 270,
    "start_time": "2023-09-20T04:39:24.327Z"
   },
   {
    "duration": 299,
    "start_time": "2023-09-20T04:39:24.599Z"
   },
   {
    "duration": 3,
    "start_time": "2023-09-20T04:39:24.900Z"
   },
   {
    "duration": 11,
    "start_time": "2023-09-20T04:39:24.905Z"
   },
   {
    "duration": 12,
    "start_time": "2023-09-20T04:39:24.918Z"
   },
   {
    "duration": 16,
    "start_time": "2023-09-20T04:39:24.931Z"
   },
   {
    "duration": 6,
    "start_time": "2023-09-20T04:39:24.948Z"
   },
   {
    "duration": 48,
    "start_time": "2023-09-20T04:39:24.955Z"
   },
   {
    "duration": 4,
    "start_time": "2023-09-20T04:39:25.004Z"
   },
   {
    "duration": 21,
    "start_time": "2023-09-20T04:39:25.009Z"
   },
   {
    "duration": 4,
    "start_time": "2023-09-20T04:39:25.031Z"
   },
   {
    "duration": 231,
    "start_time": "2023-09-20T04:39:25.036Z"
   },
   {
    "duration": 194,
    "start_time": "2023-09-20T04:39:25.268Z"
   },
   {
    "duration": 46,
    "start_time": "2023-09-20T04:39:25.463Z"
   },
   {
    "duration": 5,
    "start_time": "2023-09-20T04:39:25.513Z"
   },
   {
    "duration": 321,
    "start_time": "2023-09-20T04:39:25.520Z"
   },
   {
    "duration": 7,
    "start_time": "2023-09-20T04:39:25.843Z"
   },
   {
    "duration": 13,
    "start_time": "2023-09-20T04:39:25.852Z"
   },
   {
    "duration": 10,
    "start_time": "2023-09-20T04:39:25.867Z"
   },
   {
    "duration": 401,
    "start_time": "2023-09-20T04:39:25.879Z"
   },
   {
    "duration": 334,
    "start_time": "2023-09-20T04:39:26.282Z"
   },
   {
    "duration": 802,
    "start_time": "2023-09-20T04:39:26.619Z"
   },
   {
    "duration": 280,
    "start_time": "2023-09-20T04:39:27.423Z"
   },
   {
    "duration": 4,
    "start_time": "2023-09-20T04:39:27.705Z"
   },
   {
    "duration": 280,
    "start_time": "2023-09-20T04:39:27.711Z"
   },
   {
    "duration": 1181,
    "start_time": "2023-09-20T05:04:10.564Z"
   },
   {
    "duration": 69,
    "start_time": "2023-09-20T05:04:11.747Z"
   },
   {
    "duration": 12,
    "start_time": "2023-09-20T05:04:11.818Z"
   },
   {
    "duration": 24,
    "start_time": "2023-09-20T05:04:11.832Z"
   },
   {
    "duration": 14,
    "start_time": "2023-09-20T05:04:11.857Z"
   },
   {
    "duration": 31,
    "start_time": "2023-09-20T05:04:11.872Z"
   },
   {
    "duration": 11,
    "start_time": "2023-09-20T05:04:11.904Z"
   },
   {
    "duration": 33,
    "start_time": "2023-09-20T05:04:11.916Z"
   },
   {
    "duration": 22,
    "start_time": "2023-09-20T05:04:11.951Z"
   },
   {
    "duration": 43,
    "start_time": "2023-09-20T05:04:11.976Z"
   },
   {
    "duration": 37,
    "start_time": "2023-09-20T05:04:12.021Z"
   },
   {
    "duration": 31,
    "start_time": "2023-09-20T05:04:12.060Z"
   },
   {
    "duration": 5,
    "start_time": "2023-09-20T05:04:12.093Z"
   },
   {
    "duration": 26,
    "start_time": "2023-09-20T05:04:12.100Z"
   },
   {
    "duration": 47,
    "start_time": "2023-09-20T05:04:12.128Z"
   },
   {
    "duration": 14,
    "start_time": "2023-09-20T05:04:12.177Z"
   },
   {
    "duration": 19,
    "start_time": "2023-09-20T05:04:12.193Z"
   },
   {
    "duration": 69,
    "start_time": "2023-09-20T05:04:12.214Z"
   },
   {
    "duration": 17,
    "start_time": "2023-09-20T05:04:12.284Z"
   },
   {
    "duration": 13,
    "start_time": "2023-09-20T05:04:12.302Z"
   },
   {
    "duration": 20,
    "start_time": "2023-09-20T05:04:12.316Z"
   },
   {
    "duration": 147,
    "start_time": "2023-09-20T05:04:12.338Z"
   },
   {
    "duration": 5,
    "start_time": "2023-09-20T05:04:12.486Z"
   },
   {
    "duration": 44,
    "start_time": "2023-09-20T05:04:12.493Z"
   },
   {
    "duration": 149,
    "start_time": "2023-09-20T05:04:12.538Z"
   },
   {
    "duration": 190,
    "start_time": "2023-09-20T05:04:12.688Z"
   },
   {
    "duration": 229,
    "start_time": "2023-09-20T05:04:12.880Z"
   },
   {
    "duration": 233,
    "start_time": "2023-09-20T05:04:13.113Z"
   },
   {
    "duration": 2,
    "start_time": "2023-09-20T05:04:13.349Z"
   },
   {
    "duration": 22,
    "start_time": "2023-09-20T05:04:13.352Z"
   },
   {
    "duration": 21,
    "start_time": "2023-09-20T05:04:13.376Z"
   },
   {
    "duration": 34,
    "start_time": "2023-09-20T05:04:13.399Z"
   },
   {
    "duration": 27,
    "start_time": "2023-09-20T05:04:13.435Z"
   },
   {
    "duration": 34,
    "start_time": "2023-09-20T05:04:13.464Z"
   },
   {
    "duration": 4,
    "start_time": "2023-09-20T05:04:13.499Z"
   },
   {
    "duration": 28,
    "start_time": "2023-09-20T05:04:13.504Z"
   },
   {
    "duration": 3,
    "start_time": "2023-09-20T05:04:13.534Z"
   },
   {
    "duration": 194,
    "start_time": "2023-09-20T05:04:13.538Z"
   },
   {
    "duration": 185,
    "start_time": "2023-09-20T05:04:13.733Z"
   },
   {
    "duration": 49,
    "start_time": "2023-09-20T05:04:13.919Z"
   },
   {
    "duration": 6,
    "start_time": "2023-09-20T05:04:13.969Z"
   },
   {
    "duration": 309,
    "start_time": "2023-09-20T05:04:13.976Z"
   },
   {
    "duration": 5,
    "start_time": "2023-09-20T05:04:14.286Z"
   },
   {
    "duration": 14,
    "start_time": "2023-09-20T05:04:14.292Z"
   },
   {
    "duration": 23,
    "start_time": "2023-09-20T05:04:14.308Z"
   },
   {
    "duration": 392,
    "start_time": "2023-09-20T05:04:14.333Z"
   },
   {
    "duration": 294,
    "start_time": "2023-09-20T05:04:14.727Z"
   },
   {
    "duration": 695,
    "start_time": "2023-09-20T05:04:15.023Z"
   },
   {
    "duration": 276,
    "start_time": "2023-09-20T05:04:15.720Z"
   },
   {
    "duration": 5,
    "start_time": "2023-09-20T05:04:15.998Z"
   },
   {
    "duration": 290,
    "start_time": "2023-09-20T05:04:16.005Z"
   }
  ],
  "celltoolbar": "Необработанный формат ячейки",
  "kernelspec": {
   "display_name": "Python 3 (ipykernel)",
   "language": "python",
   "name": "python3"
  },
  "language_info": {
   "codemirror_mode": {
    "name": "ipython",
    "version": 3
   },
   "file_extension": ".py",
   "mimetype": "text/x-python",
   "name": "python",
   "nbconvert_exporter": "python",
   "pygments_lexer": "ipython3",
   "version": "3.9.16"
  },
  "nbTranslate": {
   "displayLangs": [
    "*"
   ],
   "hotkey": "alt-t",
   "langInMainMenu": true,
   "sourceLang": "en",
   "targetLang": "fr",
   "useGoogleTranslate": true
  },
  "toc": {
   "base_numbering": 1,
   "nav_menu": {},
   "number_sections": true,
   "sideBar": true,
   "skip_h1_title": true,
   "title_cell": "Содержание",
   "title_sidebar": "Contents",
   "toc_cell": true,
   "toc_position": {
    "height": "calc(100% - 180px)",
    "left": "10px",
    "top": "150px",
    "width": "283.6px"
   },
   "toc_section_display": true,
   "toc_window_display": false
  }
 },
 "nbformat": 4,
 "nbformat_minor": 5
}
